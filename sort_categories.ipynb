{
 "cells": [
  {
   "cell_type": "code",
   "execution_count": 2,
   "metadata": {},
   "outputs": [],
   "source": [
    "import json\n",
    "import os\n",
    "from tqdm import tqdm\n",
    "\n",
    "folder_name = \"pheme_cats\"\n",
    "file_name = \"pheme_categories.json\""
   ]
  },
  {
   "cell_type": "code",
   "execution_count": 3,
   "metadata": {},
   "outputs": [],
   "source": [
    "f = open(file_name)\n",
    "data = json.load(f)"
   ]
  },
  {
   "cell_type": "code",
   "execution_count": 16,
   "metadata": {},
   "outputs": [
    {
     "data": {
      "text/plain": [
       "['Sensitive Subjects', 'War & Conflict']"
      ]
     },
     "execution_count": 16,
     "metadata": {},
     "output_type": "execute_result"
    }
   ],
   "source": [
    "a = list(data[\"0\"].keys())[0]\n",
    "b = a[1:].split(\"/\")\n",
    "b"
   ]
  },
  {
   "cell_type": "code",
   "execution_count": 37,
   "metadata": {},
   "outputs": [
    {
     "name": "stderr",
     "output_type": "stream",
     "text": [
      "100%|██████████| 2402/2402 [00:00<00:00, 343237.88it/s]\n"
     ]
    }
   ],
   "source": [
    "new_file = {}\n",
    "\n",
    "for entry in tqdm(data):\n",
    "    for cat in data[entry]:\n",
    "        if cat in new_file.keys():\n",
    "            new_file[cat][entry] = data[entry][cat]\n",
    "        else:\n",
    "            new_line = {cat: {entry: data[entry][cat]}}\n",
    "            new_file.update(new_line)\n",
    "\n",
    "with open(\"pheme_categories_resorted.json\", \"w\") as f:\n",
    "    json.dump(new_file, f)"
   ]
  },
  {
   "cell_type": "code",
   "execution_count": 45,
   "metadata": {},
   "outputs": [
    {
     "name": "stderr",
     "output_type": "stream",
     "text": [
      "100%|██████████| 2402/2402 [00:00<00:00, 82828.14it/s]\n"
     ]
    }
   ],
   "source": [
    "new_file = {}\n",
    "\n",
    "for entry in tqdm(data):\n",
    "    for cat in data[entry]:\n",
    "        subcats = cat.split(\"/\")\n",
    "        parent = new_file\n",
    "        for i in range(1, len(subcats)):\n",
    "            subcat = subcats[i]\n",
    "            if subcat in parent.keys():\n",
    "                parent = parent[subcat]\n",
    "            else:\n",
    "                parent[subcat] = {}\n",
    "                parent = parent[subcat]\n",
    "            if i == len(subcats) - 1:\n",
    "                parent[entry] = data[entry][cat]\n",
    "\n",
    "with open(\"pheme_categories_resorted.json\", \"w\") as f:\n",
    "    json.dump(new_file, f)"
   ]
  },
  {
   "cell_type": "code",
   "execution_count": 64,
   "metadata": {},
   "outputs": [
    {
     "name": "stderr",
     "output_type": "stream",
     "text": [
      "100%|██████████| 2402/2402 [00:00<00:00, 150126.93it/s]\n"
     ]
    }
   ],
   "source": [
    "new_file = {}\n",
    "\n",
    "for entry in tqdm(data):\n",
    "    for cat in data[entry]:\n",
    "        maincat = cat.split(\"/\")[1]\n",
    "        if maincat in new_file.keys():\n",
    "            if entry in new_file[maincat].keys():\n",
    "                if data[entry][cat] > new_file[maincat][entry]:\n",
    "                    new_file[maincat][entry] = data[entry][cat]\n",
    "            else:\n",
    "                new_file[maincat][entry] = data[entry][cat]\n",
    "        else:     \n",
    "            new_line = {maincat: {entry: data[entry][cat]}}\n",
    "            new_file.update(new_line)\n",
    "\n",
    "with open(\"pheme_categories_organised.json\", \"w\") as f:\n",
    "    json.dump(new_file, f)"
   ]
  },
  {
   "cell_type": "code",
   "execution_count": 59,
   "metadata": {},
   "outputs": [
    {
     "data": {
      "text/plain": [
       "'Sensitive Subjects'"
      ]
     },
     "execution_count": 59,
     "metadata": {},
     "output_type": "execute_result"
    }
   ],
   "source": [
    "data[\"0\"][\"/Sensitive Subjects/War & Conflict\"]\n",
    "'/Sensitive Subjects/War & Conflict'.split(\"/\")[1]"
   ]
  },
  {
   "cell_type": "code",
   "execution_count": 31,
   "metadata": {},
   "outputs": [
    {
     "name": "stdout",
     "output_type": "stream",
     "text": [
      "/Sensitive Subjects/War & Conflict\n",
      "/News/Other\n",
      "/Sensitive Subjects/Death & Tragedy\n",
      "/Sensitive Subjects/Violence & Abuse\n",
      "/Arts & Entertainment/Comics & Animation/Comics\n",
      "/News/World News\n",
      "/Arts & Entertainment/Humor/Spoofs & Satire\n",
      "/Arts & Entertainment/Music & Audio/Radio\n",
      "/People & Society/Religion & Belief\n",
      "/Sensitive Subjects/Other\n",
      "/Law & Government/Public Safety/Law Enforcement\n",
      "/News/Politics/Other\n",
      "/Online Communities/Social Networks\n",
      "/Arts & Entertainment/Offbeat/Other\n",
      "/Arts & Entertainment/Humor/Political Humor\n",
      "/Online Communities/Blogging Resources & Services\n",
      "/Law & Government/Government/Executive Branch\n",
      "/Arts & Entertainment/TV & Video/Online Video\n",
      "/Arts & Entertainment/Comics & Animation/Cartoons\n",
      "/News/Local News\n",
      "/Books & Literature/Other\n",
      "/Arts & Entertainment/Online Media/Online Image Galleries\n",
      "/Arts & Entertainment/Humor/Other\n",
      "/Reference/General Reference/Biographies & Quotations\n",
      "/Law & Government/Military/Other\n",
      "/Arts & Entertainment/Visual Art & Design/Other\n",
      "/Arts & Entertainment/Music & Audio/Urban & Hip-Hop\n",
      "/Arts & Entertainment/Visual Art & Design/Painting\n",
      "/Online Communities/Photo & Video Sharing/Photo & Image Sharing\n",
      "/Sensitive Subjects/Firearms & Weapons\n",
      "/Law & Government/Public Safety/Crime & Justice\n",
      "/Jobs & Education/Education/Primary & Secondary Schooling (K-12)\n",
      "/Health/Public Health/Other\n",
      "/Law & Government/Military/Air Force\n",
      "/Business & Industrial/Aerospace & Defense/Other\n",
      "/Business & Industrial/Aerospace & Defense/Aviation Industry\n",
      "/Autos & Vehicles/Personal Aircraft\n",
      "/Reference/Geographic Reference/Maps\n",
      "/Health/Nutrition/Special & Restricted Diets\n",
      "/Food & Drink/Food & Grocery Retailers/Other\n",
      "/Food & Drink/Food & Grocery Retailers/Bakeries\n",
      "/People & Society/Other\n",
      "/Food & Drink/Restaurants/Other\n",
      "/Travel & Transportation/Tourist Destinations/Historical Sites & Buildings\n",
      "/Sensitive Subjects/Accidents & Disasters\n",
      "/Law & Government/Government/Other\n",
      "/People & Society/Family & Relationships/Family/Other\n",
      "/Law & Government/Military/Army\n",
      "/Law & Government/Government/Legislative Branch\n",
      "/Arts & Entertainment/TV & Video/TV Networks & Stations\n",
      "/Arts & Entertainment/Visual Art & Design/Art Museums & Galleries\n",
      "/People & Society/Social Issues & Advocacy/Other\n",
      "/Jobs & Education/Education/Colleges & Universities\n",
      "/News/Politics/Campaigns & Elections\n",
      "/Health/Health Conditions/Infectious Diseases/Other\n",
      "/Health/Health Conditions/Infectious Diseases/Covid-19\n",
      "/Sports/Team Sports/Hockey\n",
      "/News/Sports News\n",
      "/Reference/Humanities/History\n",
      "/Shopping/Mass Merchants & Department Stores\n",
      "/Health/Medical Facilities & Services/Hospitals & Treatment Centers\n",
      "/Travel & Transportation/Transportation/Air Travel\n",
      "/Law & Government/Public Safety/Emergency Services\n",
      "/Law & Government/Military/Veterans\n",
      "/News/Health News\n",
      "/Law & Government/Government/Visa & Immigration\n",
      "/People & Society/Social Issues & Advocacy/Human Rights & Liberties\n",
      "/Law & Government/Government/Intelligence & Counterterrorism\n",
      "/News/Gossip & Tabloid News/Scandals & Investigations\n",
      "/Shopping/Apparel/Casual Apparel\n",
      "/People & Society/Social Issues & Advocacy/Discrimination & Identity Relations\n",
      "/Arts & Entertainment/Celebrities & Entertainment News\n",
      "/Sports/Team Sports/Basketball\n",
      "/Sports/Team Sports/Soccer\n",
      "/Law & Government/Legal/Other\n",
      "/Arts & Entertainment/Performing Arts/Broadway & Musical Theater\n",
      "/Arts & Entertainment/TV & Video/TV Shows & Programs\n",
      "/Arts & Entertainment/Events & Listings/Concerts & Music Festivals\n",
      "/Arts & Entertainment/Music & Audio/Pop Music\n",
      "/Arts & Entertainment/Events & Listings/Event Ticket Sales\n",
      "/Arts & Entertainment/Music & Audio/Rock Music\n",
      "/News/Weather\n",
      "/Arts & Entertainment/Fun & Trivia/Fun Tests & Silly Surveys\n",
      "/Law & Government/Government/Royalty\n",
      "/News/Gossip & Tabloid News/Other\n",
      "/Arts & Entertainment/Music & Audio/Music Equipment & Technology\n",
      "/Food & Drink/Restaurants/Pizzerias\n",
      "/Arts & Entertainment/Music & Audio/Music Reference\n",
      "/Arts & Entertainment/Performing Arts/Other\n",
      "/Arts & Entertainment/Humor/Funny Pictures & Videos\n",
      "/Beauty & Fitness/Fashion & Style/Other\n",
      "/Arts & Entertainment/Performing Arts/Acting & Theater\n",
      "/Computers & Electronics/Consumer Electronics/Camera & Photo Equipment\n",
      "/Finance/Insurance/Other\n",
      "/Sports/Team Sports/American Football\n",
      "/Food & Drink/Food & Grocery Retailers/Convenience Stores\n",
      "/Sensitive Subjects/Recreational Drugs\n",
      "/Shopping/Tobacco & Vaping Products\n",
      "/News/Business News/Company News\n",
      "/Law & Government/Government/Courts & Judiciary\n",
      "/Law & Government/Legal/Legal Services\n",
      "/Food & Drink/Beverages/Soft Drinks\n",
      "/News/Politics/Political Polls & Surveys\n",
      "/Law & Government/Government/Embassies & Consulates\n",
      "/Internet & Telecom/Email & Messaging/Other\n",
      "/Business & Industrial/Energy & Utilities/Oil & Gas\n",
      "/Online Communities/Online Goodies/Social Network Apps & Add-Ons\n",
      "/Travel & Transportation/Transportation/Cruises & Charters\n",
      "/Health/Mental Health/Depression\n",
      "/Health/Mental Health/Other\n",
      "/Reference/Libraries & Museums/Museums\n",
      "/Reference/Libraries & Museums/Other\n",
      "/Law & Government/Legal/Intellectual Property\n",
      "/Arts & Entertainment/Events & Listings/Bars, Clubs & Nightlife\n",
      "/Reference/Geographic Reference/Other\n",
      "/Travel & Transportation/Tourist Destinations/Other\n",
      "/Food & Drink/Food/Candy & Sweets\n",
      "/People & Society/Social Issues & Advocacy/Charity & Philanthropy\n",
      "/Arts & Entertainment/Music & Audio/Religious Music\n",
      "/Travel & Transportation/Transportation/Taxi & Ride Hail Services\n",
      "/Business & Industrial/Construction & Maintenance/Other\n",
      "/Travel & Transportation/Transportation/Car Rentals\n",
      "/Travel & Transportation/Transportation/Carpooling\n",
      "/Travel & Transportation/Transportation/Urban Transit\n",
      "/People & Society/Social Issues & Advocacy/Work & Labor Issues\n",
      "/Hobbies & Leisure/Special Occasions/Holidays & Seasonal Events\n",
      "/Law & Government/Public Safety/Security Products & Services\n",
      "/Science/Engineering & Technology/Robotics\n"
     ]
    }
   ],
   "source": [
    "a = list(new_file.keys())\n",
    "for i in a:\n",
    "    print(i)"
   ]
  }
 ],
 "metadata": {
  "kernelspec": {
   "display_name": "Python 3",
   "language": "python",
   "name": "python3"
  },
  "language_info": {
   "codemirror_mode": {
    "name": "ipython",
    "version": 3
   },
   "file_extension": ".py",
   "mimetype": "text/x-python",
   "name": "python",
   "nbconvert_exporter": "python",
   "pygments_lexer": "ipython3",
   "version": "3.10.12"
  },
  "orig_nbformat": 4
 },
 "nbformat": 4,
 "nbformat_minor": 2
}
