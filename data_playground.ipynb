{
 "cells": [
  {
   "cell_type": "code",
   "execution_count": 2,
   "metadata": {},
   "outputs": [],
   "source": [
    "import pandas as pd"
   ]
  },
  {
   "cell_type": "code",
   "execution_count": 11,
   "metadata": {},
   "outputs": [],
   "source": [
    "pheme = pd.read_csv('datasets/pheme2.csv')\n",
    "twitter15 = pd.read_csv('datasets/twitter15.csv')\n",
    "twitter16 = pd.read_csv('datasets/twitter16.csv')"
   ]
  },
  {
   "cell_type": "code",
   "execution_count": 15,
   "metadata": {},
   "outputs": [
    {
     "name": "stdout",
     "output_type": "stream",
     "text": [
      "0                          correct predict back futur ii\n",
      "1      whitehous rainbow color scotusmarriag think decis\n",
      "2      cop bought alleg church shooter burger king ho...\n",
      "3      ca kkk grand wizard endors hillaryclinton neve...\n",
      "4      open letter trump voter top strategist turn de...\n",
      "                             ...                        \n",
      "813    jeb bush campaign kick state farewel tour iowa...\n",
      "814    break live coverag hostag situat unfold sydney...\n",
      "815                                    school satan club\n",
      "816    network tunnel stone age howev one know could ...\n",
      "817    top north korean diplomat disappear london emb...\n",
      "Name: text, Length: 818, dtype: object\n"
     ]
    }
   ],
   "source": [
    "pheme_text = pheme['text']\n",
    "twitter15_text = twitter15['text']\n",
    "twitter16_text = twitter16['text']\n",
    "print(twitter16_text)"
   ]
  },
  {
   "cell_type": "code",
   "execution_count": 22,
   "metadata": {},
   "outputs": [
    {
     "data": {
      "text/plain": [
       "7511"
      ]
     },
     "execution_count": 22,
     "metadata": {},
     "output_type": "execute_result"
    }
   ],
   "source": [
    "def compile_vocab(corpus):\n",
    "    vocab_list = []\n",
    "    for line in corpus:\n",
    "        for word in line.split():\n",
    "#            if word not in vocab_list:\n",
    "            vocab_list.append(word)\n",
    "\n",
    "    return vocab_list\n",
    "\n",
    "len(compile_vocab(twitter16_text))"
   ]
  }
 ],
 "metadata": {
  "kernelspec": {
   "display_name": "will",
   "language": "python",
   "name": "python3"
  },
  "language_info": {
   "codemirror_mode": {
    "name": "ipython",
    "version": 3
   },
   "file_extension": ".py",
   "mimetype": "text/x-python",
   "name": "python",
   "nbconvert_exporter": "python",
   "pygments_lexer": "ipython3",
   "version": "3.11.5"
  },
  "orig_nbformat": 4
 },
 "nbformat": 4,
 "nbformat_minor": 2
}
