{
 "cells": [
  {
   "attachments": {},
   "cell_type": "markdown",
   "metadata": {},
   "source": [
    "# Prep Data"
   ]
  },
  {
   "cell_type": "code",
   "execution_count": 1,
   "metadata": {},
   "outputs": [],
   "source": [
    "import numpy as np \n",
    "import pandas as pd \n",
    "import os\n",
    "import json\n",
    "import nltk # NLP  \n",
    "from nltk.corpus import stopwords  \n",
    "from nltk.stem import WordNetLemmatizer \n",
    "from nltk.stem import PorterStemmer \n",
    "import re  \n",
    "import contractions"
   ]
  },
  {
   "cell_type": "code",
   "execution_count": 2,
   "metadata": {},
   "outputs": [
    {
     "name": "stdout",
     "output_type": "stream",
     "text": [
      "c:\\Users\\willc\\Documents\\wills ensemble\\datasets\n"
     ]
    }
   ],
   "source": [
    "%cd datasets"
   ]
  },
  {
   "cell_type": "code",
   "execution_count": 3,
   "metadata": {},
   "outputs": [],
   "source": [
    "with open('twitter.txt', 'r') as f:\n",
    "    lines = f.readlines()\n"
   ]
  },
  {
   "cell_type": "code",
   "execution_count": 4,
   "metadata": {},
   "outputs": [],
   "source": [
    "twitter_df = pd.DataFrame(columns=[\"text\", \"verdict\"])\n",
    "for line in lines:\n",
    "    sections = line.split('\\t')\n",
    "    verdict = sections[2][:-1]\n",
    "    if verdict == \"non-rumor\":\n",
    "        continue\n",
    "    if verdict == \"unverified\":\n",
    "        verdict = \"false\"\n",
    "\n",
    "    data = [sections[1], verdict]\n",
    "    twitter_df.loc[len(twitter_df)] = data"
   ]
  },
  {
   "cell_type": "code",
   "execution_count": 5,
   "metadata": {},
   "outputs": [
    {
     "name": "stderr",
     "output_type": "stream",
     "text": [
      "[nltk_data] Downloading package stopwords to\n",
      "[nltk_data]     C:\\Users\\willc\\AppData\\Roaming\\nltk_data...\n",
      "[nltk_data]   Package stopwords is already up-to-date!\n",
      "[nltk_data] Downloading package punkt to\n",
      "[nltk_data]     C:\\Users\\willc\\AppData\\Roaming\\nltk_data...\n",
      "[nltk_data]   Package punkt is already up-to-date!\n",
      "[nltk_data] Downloading package wordnet to\n",
      "[nltk_data]     C:\\Users\\willc\\AppData\\Roaming\\nltk_data...\n",
      "[nltk_data]   Package wordnet is already up-to-date!\n"
     ]
    },
    {
     "data": {
      "text/plain": [
       "True"
      ]
     },
     "execution_count": 5,
     "metadata": {},
     "output_type": "execute_result"
    }
   ],
   "source": [
    "# download nltk stuff\n",
    "nltk.download('stopwords')\n",
    "nltk.download('punkt')\n",
    "nltk.download('wordnet')"
   ]
  },
  {
   "cell_type": "code",
   "execution_count": 6,
   "metadata": {},
   "outputs": [
    {
     "data": {
      "text/plain": [
       "array(['ohio polic offic hospit eat shard glass sandwich columbu restaur blackliesmatt',\n",
       "       'one men want copi orlando shooter stop l liber democrat berniebro',\n",
       "       'missouri governor declar state emerg ahead grand juri', ...,\n",
       "       'break hostag held insid sydney cafe islam flag held',\n",
       "       'newsflash orlando shooter muslim democrat republican christian gayprid',\n",
       "       'great scott backtothefutur almost nail predict hplab make'],\n",
       "      dtype=object)"
      ]
     },
     "execution_count": 6,
     "metadata": {},
     "output_type": "execute_result"
    }
   ],
   "source": [
    "# Clean text\n",
    "\n",
    "def remove_punctuations(text):\n",
    "    return re.sub('\\[[^]]*\\]', '', text)\n",
    "\n",
    "def remove_characters(text):\n",
    "    return re.sub('[^a-zA-Z]', ' ', text)\n",
    "\n",
    "def remove_url(text):\n",
    "    return re.sub('URL', '', text)\n",
    "\n",
    "def remove_contractions(text):\n",
    "    return ' '.join([contractions.fix(word) for word in text.split()])\n",
    "\n",
    "stop_words = stopwords.words('english')\n",
    "def remove_stopwords(text):\n",
    "    return ' '.join([word for word in nltk.word_tokenize(text) if word not in stop_words])\n",
    "# str(text).split()\n",
    "\n",
    "#defining the object for Lemmatization\n",
    "lemmatizer = WordNetLemmatizer()\n",
    "#defining a function for lemming\n",
    "def lemmatize_words(text):\n",
    "    return ' '.join(lemmatizer.lemmatize(word) for word in text.split())\n",
    "\n",
    "#defining the object for stemming\n",
    "stemmer = PorterStemmer()\n",
    "#defining a function for stemming\n",
    "def stemming_words(text):\n",
    "    return ' '.join(stemmer.stem(word) for word in text.split())\n",
    "\n",
    "def clean_text(text):\n",
    "    text = remove_url(text)\n",
    "    text = remove_contractions(text)\n",
    "    text = text.lower()\n",
    "    text = remove_punctuations(text)\n",
    "    text = remove_characters(text)\n",
    "    text = remove_stopwords(text)\n",
    "    text = stemming_words(text)\n",
    "    text = lemmatize_words(text)\n",
    "    return text\n",
    "    \n",
    "# apply\n",
    "twitter_df['text'] = twitter_df['text'].apply(clean_text)\n",
    "twitter_df[\"text\"].values"
   ]
  },
  {
   "cell_type": "code",
   "execution_count": 7,
   "metadata": {},
   "outputs": [
    {
     "name": "stdout",
     "output_type": "stream",
     "text": [
      "(1729, 2)\n"
     ]
    }
   ],
   "source": [
    "print(twitter_df.shape)\n",
    "twitter_df.to_csv(\"twitter.csv\")"
   ]
  }
 ],
 "metadata": {
  "kernelspec": {
   "display_name": "rumour-ensemble",
   "language": "python",
   "name": "python3"
  },
  "language_info": {
   "codemirror_mode": {
    "name": "ipython",
    "version": 3
   },
   "file_extension": ".py",
   "mimetype": "text/x-python",
   "name": "python",
   "nbconvert_exporter": "python",
   "pygments_lexer": "ipython3",
   "version": "3.10.12"
  },
  "orig_nbformat": 4
 },
 "nbformat": 4,
 "nbformat_minor": 2
}
