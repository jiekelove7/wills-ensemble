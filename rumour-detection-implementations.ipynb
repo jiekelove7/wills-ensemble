{
 "cells": [
  {
   "attachments": {},
   "cell_type": "markdown",
   "metadata": {},
   "source": [
    "# Prepare data"
   ]
  },
  {
   "cell_type": "code",
   "execution_count": 4,
   "metadata": {},
   "outputs": [],
   "source": [
    "# Import Stuff\n",
    "import pandas as pd\n",
    "import numpy as np\n",
    "import matplotlib.pyplot as plt\n",
    "from sklearn.feature_extraction.text import TfidfVectorizer, HashingVectorizer, CountVectorizer\n",
    "from sklearn.svm import SVC\n",
    "from sklearn.model_selection import GridSearchCV\n",
    "from sklearn.neighbors import KNeighborsClassifier\n",
    "from sklearn.linear_model import LogisticRegression\n",
    "from sklearn.ensemble import AdaBoostClassifier\n",
    "from sklearn.model_selection import train_test_split\n",
    "from sklearn.metrics import accuracy_score, confusion_matrix, f1_score, ConfusionMatrixDisplay\n",
    "from sklearn.metrics.pairwise import cosine_similarity\n",
    "\n",
    "import spacy\n",
    "from tqdm import tqdm\n",
    "import json\n",
    "\n",
    "from hpsklearn import HyperoptEstimator"
   ]
  },
  {
   "attachments": {},
   "cell_type": "markdown",
   "metadata": {},
   "source": [
    "General notes\n",
    "- Glove good\n",
    "- hyperopt sus\n"
   ]
  },
  {
   "cell_type": "code",
   "execution_count": 5,
   "metadata": {},
   "outputs": [],
   "source": [
    "pheme = pd.read_csv('datasets/pheme.csv')\n",
    "politifact = pd.read_csv('datasets/politifact.csv')\n",
    "twitter = pd.read_csv('datasets/twitter.csv')\n",
    "twitter15 = pd.read_csv('datasets/twitter15.csv')\n",
    "twitter16 = pd.read_csv('datasets/twitter16.csv')"
   ]
  },
  {
   "cell_type": "code",
   "execution_count": 6,
   "metadata": {},
   "outputs": [
    {
     "name": "stdout",
     "output_type": "stream",
     "text": [
      "(2402, 200)\n",
      "(1490, 200)\n",
      "(818, 200)\n"
     ]
    }
   ],
   "source": [
    "# glove twitter\n",
    "\n",
    "nlp = spacy.load(\"spacy-twitter\")\n",
    "X = np.array([nlp(text).vector for text in pheme['text']])\n",
    "print(X.shape)\n",
    "X_t15 = np.array([nlp(text).vector for text in twitter15['text']])\n",
    "X_t16 = np.array([nlp(text).vector for text in twitter16['text']])\n",
    "print(X_t15.shape)\n",
    "print(X_t16.shape)\n",
    "\n",
    "\n",
    "#maybe try gensim? or stick with glove idk"
   ]
  },
  {
   "cell_type": "code",
   "execution_count": 354,
   "metadata": {},
   "outputs": [],
   "source": [
    "#pheme['e_text'] = X.tolist()\n",
    "#pheme['rank'] = pheme['followers'].rank()\n",
    "#pheme['group'] = np.array([int(x/(len(pheme)/5)) for x in pheme['rank']])\n"
   ]
  },
  {
   "cell_type": "code",
   "execution_count": 9,
   "metadata": {},
   "outputs": [],
   "source": [
    "twitter15['glove'] = X_t15.tolist()\n",
    "twitter16['glove'] = X_t16.tolist()\n",
    "pheme['glove'] = X.tolist()\n",
    "twitter15.rename(columns = {'verdict':'target'}, inplace = True)\n",
    "twitter16.rename(columns = {'verdict':'target'}, inplace = True)"
   ]
  },
  {
   "cell_type": "code",
   "execution_count": 61,
   "metadata": {},
   "outputs": [
    {
     "name": "stdout",
     "output_type": "stream",
     "text": [
      "[[1.         0.58475187]\n",
      " [0.58475187 1.        ]]\n"
     ]
    }
   ],
   "source": [
    "# Dataset Analysis with stemmed datasets\n",
    "T15_TXT = \"\"\n",
    "for index, line in twitter15.iterrows():\n",
    "    T15_TXT = T15_TXT + line['text'] + \" \"\n",
    "    # print(line)\n",
    "\n",
    "T16_TXT = \"\"\n",
    "for index, line in twitter16.iterrows():\n",
    "    T16_TXT = T16_TXT + line['text'] + \" \"\n",
    "    # print(line)\n",
    "\n",
    "PHEME_TXT = \"\"\n",
    "\n",
    "for index, line in pheme.iterrows():\n",
    "    PHEME_TXT = PHEME_TXT + line['text'] + \" \"\n",
    "    # print(line)\n",
    "\n",
    "#print(T15_TXT)\n",
    "#print(T16_TXT)\n",
    "#print(PHEME_TXT)\n",
    "CountVectors = CountVectorizer().fit_transform([T15_TXT, T16_TXT, PHEME_TXT]).toarray()\n",
    "print(cosine_similarity([CountVectors[1, :], CountVectors[2, :]]))\n",
    "\n",
    "\n",
    "#cosine_similarity()"
   ]
  },
  {
   "cell_type": "code",
   "execution_count": 11,
   "metadata": {},
   "outputs": [
    {
     "name": "stdout",
     "output_type": "stream",
     "text": [
      "181    [-0.0021383303683251143, 0.111158587038517, -0...\n",
      "705    [-0.16097000241279602, -0.5138999819755554, -0...\n",
      "633    [-0.04431845620274544, 0.14434652030467987, -0...\n",
      "275    [0.13856640458106995, -0.018436841666698456, -...\n",
      "158    [-0.012775163166224957, 0.018644684925675392, ...\n",
      "                             ...                        \n",
      "71     [0.11821100115776062, -0.44892627000808716, -0...\n",
      "106    [0.11769477277994156, -0.25377213954925537, -0...\n",
      "270    [-0.1842142641544342, -0.05317457765340805, 0....\n",
      "435    [-0.2206292301416397, -0.10736429691314697, 0....\n",
      "102    [-0.007166670169681311, -0.026617025956511497,...\n",
      "Name: glove, Length: 613, dtype: object\n"
     ]
    }
   ],
   "source": [
    "#pheme_train = pheme.drop('target', axis=1)\n",
    "# X_tr, X_te, y_train, y_test = train_test_split(pheme_train, pheme['target'], test_size = 0.25, random_state = 42)\n",
    "# X_train = np.array([text for text in X_tr['e_text']])\n",
    "# X_test = np.array([text for text in X_te['e_text']])\n",
    "dataset1 = twitter16\n",
    "dataset2 = twitter15\n",
    "\n",
    "train_X, _, train_y, __ = train_test_split(dataset1['glove'], dataset1['target'], test_size = 0.25, random_state = 42)\n",
    "_, test_X, __, test_y = train_test_split(dataset2['glove'], dataset2['target'], test_size = 0.25, random_state = 42)\n",
    "\n",
    "print(train_X)"
   ]
  },
  {
   "cell_type": "code",
   "execution_count": 12,
   "metadata": {},
   "outputs": [],
   "source": [
    "from transformers import AutoModelForSequenceClassification\n",
    "from transformers import TFAutoModelForSequenceClassification\n",
    "from transformers import AutoTokenizer\n",
    "import numpy as np\n",
    "from scipy.special import softmax\n",
    "import csv\n",
    "import urllib.request"
   ]
  },
  {
   "cell_type": "code",
   "execution_count": 15,
   "metadata": {},
   "outputs": [
    {
     "ename": "OSError",
     "evalue": "Can't load tokenizer for 'cardiffnlp/twitter-roberta-base-sentiment'. If you were trying to load it from 'https://huggingface.co/models', make sure you don't have a local directory with the same name. Otherwise, make sure 'cardiffnlp/twitter-roberta-base-sentiment' is the correct path to a directory containing all relevant files for a RobertaTokenizerFast tokenizer.",
     "output_type": "error",
     "traceback": [
      "\u001b[0;31m---------------------------------------------------------------------------\u001b[0m",
      "\u001b[0;31mOSError\u001b[0m                                   Traceback (most recent call last)",
      "\u001b[1;32m/Users/aij/Documents/2023 Sem 2/GENG5512/wills-ensemble/rumour-detection-implementations.ipynb Cell 11\u001b[0m line \u001b[0;36m4\n\u001b[1;32m      <a href='vscode-notebook-cell:/Users/aij/Documents/2023%20Sem%202/GENG5512/wills-ensemble/rumour-detection-implementations.ipynb#Y106sZmlsZQ%3D%3D?line=0'>1</a>\u001b[0m task\u001b[39m=\u001b[39m\u001b[39m'\u001b[39m\u001b[39msentiment\u001b[39m\u001b[39m'\u001b[39m\n\u001b[1;32m      <a href='vscode-notebook-cell:/Users/aij/Documents/2023%20Sem%202/GENG5512/wills-ensemble/rumour-detection-implementations.ipynb#Y106sZmlsZQ%3D%3D?line=1'>2</a>\u001b[0m MODEL \u001b[39m=\u001b[39m \u001b[39mf\u001b[39m\u001b[39m\"\u001b[39m\u001b[39mcardiffnlp/twitter-roberta-base-\u001b[39m\u001b[39m{\u001b[39;00mtask\u001b[39m}\u001b[39;00m\u001b[39m\"\u001b[39m\n\u001b[0;32m----> <a href='vscode-notebook-cell:/Users/aij/Documents/2023%20Sem%202/GENG5512/wills-ensemble/rumour-detection-implementations.ipynb#Y106sZmlsZQ%3D%3D?line=3'>4</a>\u001b[0m tokenizer \u001b[39m=\u001b[39m AutoTokenizer\u001b[39m.\u001b[39mfrom_pretrained(MODEL)\n\u001b[1;32m      <a href='vscode-notebook-cell:/Users/aij/Documents/2023%20Sem%202/GENG5512/wills-ensemble/rumour-detection-implementations.ipynb#Y106sZmlsZQ%3D%3D?line=5'>6</a>\u001b[0m labels\u001b[39m=\u001b[39m[]\n\u001b[1;32m      <a href='vscode-notebook-cell:/Users/aij/Documents/2023%20Sem%202/GENG5512/wills-ensemble/rumour-detection-implementations.ipynb#Y106sZmlsZQ%3D%3D?line=6'>7</a>\u001b[0m mapping_link \u001b[39m=\u001b[39m \u001b[39mf\u001b[39m\u001b[39m\"\u001b[39m\u001b[39mhttps://raw.githubusercontent.com/cardiffnlp/tweeteval/main/datasets/\u001b[39m\u001b[39m{\u001b[39;00mtask\u001b[39m}\u001b[39;00m\u001b[39m/mapping.txt\u001b[39m\u001b[39m\"\u001b[39m\n",
      "File \u001b[0;32m~/miniconda3/envs/will/lib/python3.11/site-packages/transformers/models/auto/tokenization_auto.py:745\u001b[0m, in \u001b[0;36mAutoTokenizer.from_pretrained\u001b[0;34m(cls, pretrained_model_name_or_path, *inputs, **kwargs)\u001b[0m\n\u001b[1;32m    743\u001b[0m tokenizer_class_py, tokenizer_class_fast \u001b[39m=\u001b[39m TOKENIZER_MAPPING[\u001b[39mtype\u001b[39m(config)]\n\u001b[1;32m    744\u001b[0m \u001b[39mif\u001b[39;00m tokenizer_class_fast \u001b[39mand\u001b[39;00m (use_fast \u001b[39mor\u001b[39;00m tokenizer_class_py \u001b[39mis\u001b[39;00m \u001b[39mNone\u001b[39;00m):\n\u001b[0;32m--> 745\u001b[0m     \u001b[39mreturn\u001b[39;00m tokenizer_class_fast\u001b[39m.\u001b[39mfrom_pretrained(pretrained_model_name_or_path, \u001b[39m*\u001b[39minputs, \u001b[39m*\u001b[39m\u001b[39m*\u001b[39mkwargs)\n\u001b[1;32m    746\u001b[0m \u001b[39melse\u001b[39;00m:\n\u001b[1;32m    747\u001b[0m     \u001b[39mif\u001b[39;00m tokenizer_class_py \u001b[39mis\u001b[39;00m \u001b[39mnot\u001b[39;00m \u001b[39mNone\u001b[39;00m:\n",
      "File \u001b[0;32m~/miniconda3/envs/will/lib/python3.11/site-packages/transformers/tokenization_utils_base.py:1838\u001b[0m, in \u001b[0;36mPreTrainedTokenizerBase.from_pretrained\u001b[0;34m(cls, pretrained_model_name_or_path, cache_dir, force_download, local_files_only, token, revision, *init_inputs, **kwargs)\u001b[0m\n\u001b[1;32m   1832\u001b[0m     logger\u001b[39m.\u001b[39minfo(\n\u001b[1;32m   1833\u001b[0m         \u001b[39mf\u001b[39m\u001b[39m\"\u001b[39m\u001b[39mCan\u001b[39m\u001b[39m'\u001b[39m\u001b[39mt load following files from cache: \u001b[39m\u001b[39m{\u001b[39;00munresolved_files\u001b[39m}\u001b[39;00m\u001b[39m and cannot check if these \u001b[39m\u001b[39m\"\u001b[39m\n\u001b[1;32m   1834\u001b[0m         \u001b[39m\"\u001b[39m\u001b[39mfiles are necessary for the tokenizer to operate.\u001b[39m\u001b[39m\"\u001b[39m\n\u001b[1;32m   1835\u001b[0m     )\n\u001b[1;32m   1837\u001b[0m \u001b[39mif\u001b[39;00m \u001b[39mall\u001b[39m(full_file_name \u001b[39mis\u001b[39;00m \u001b[39mNone\u001b[39;00m \u001b[39mfor\u001b[39;00m full_file_name \u001b[39min\u001b[39;00m resolved_vocab_files\u001b[39m.\u001b[39mvalues()):\n\u001b[0;32m-> 1838\u001b[0m     \u001b[39mraise\u001b[39;00m \u001b[39mEnvironmentError\u001b[39;00m(\n\u001b[1;32m   1839\u001b[0m         \u001b[39mf\u001b[39m\u001b[39m\"\u001b[39m\u001b[39mCan\u001b[39m\u001b[39m'\u001b[39m\u001b[39mt load tokenizer for \u001b[39m\u001b[39m'\u001b[39m\u001b[39m{\u001b[39;00mpretrained_model_name_or_path\u001b[39m}\u001b[39;00m\u001b[39m'\u001b[39m\u001b[39m. If you were trying to load it from \u001b[39m\u001b[39m\"\u001b[39m\n\u001b[1;32m   1840\u001b[0m         \u001b[39m\"\u001b[39m\u001b[39m'\u001b[39m\u001b[39mhttps://huggingface.co/models\u001b[39m\u001b[39m'\u001b[39m\u001b[39m, make sure you don\u001b[39m\u001b[39m'\u001b[39m\u001b[39mt have a local directory with the same name. \u001b[39m\u001b[39m\"\u001b[39m\n\u001b[1;32m   1841\u001b[0m         \u001b[39mf\u001b[39m\u001b[39m\"\u001b[39m\u001b[39mOtherwise, make sure \u001b[39m\u001b[39m'\u001b[39m\u001b[39m{\u001b[39;00mpretrained_model_name_or_path\u001b[39m}\u001b[39;00m\u001b[39m'\u001b[39m\u001b[39m is the correct path to a directory \u001b[39m\u001b[39m\"\u001b[39m\n\u001b[1;32m   1842\u001b[0m         \u001b[39mf\u001b[39m\u001b[39m\"\u001b[39m\u001b[39mcontaining all relevant files for a \u001b[39m\u001b[39m{\u001b[39;00m\u001b[39mcls\u001b[39m\u001b[39m.\u001b[39m\u001b[39m__name__\u001b[39m\u001b[39m}\u001b[39;00m\u001b[39m tokenizer.\u001b[39m\u001b[39m\"\u001b[39m\n\u001b[1;32m   1843\u001b[0m     )\n\u001b[1;32m   1845\u001b[0m \u001b[39mfor\u001b[39;00m file_id, file_path \u001b[39min\u001b[39;00m vocab_files\u001b[39m.\u001b[39mitems():\n\u001b[1;32m   1846\u001b[0m     \u001b[39mif\u001b[39;00m file_id \u001b[39mnot\u001b[39;00m \u001b[39min\u001b[39;00m resolved_vocab_files:\n",
      "\u001b[0;31mOSError\u001b[0m: Can't load tokenizer for 'cardiffnlp/twitter-roberta-base-sentiment'. If you were trying to load it from 'https://huggingface.co/models', make sure you don't have a local directory with the same name. Otherwise, make sure 'cardiffnlp/twitter-roberta-base-sentiment' is the correct path to a directory containing all relevant files for a RobertaTokenizerFast tokenizer."
     ]
    }
   ],
   "source": [
    "task='sentiment'\n",
    "MODEL = f\"cardiffnlp/twitter-roberta-base-{task}\"\n",
    "\n",
    "tokenizer = AutoTokenizer.from_pretrained(MODEL)\n",
    "\n",
    "labels=[]\n",
    "mapping_link = f\"https://raw.githubusercontent.com/cardiffnlp/tweeteval/main/datasets/{task}/mapping.txt\"\n",
    "with urllib.request.urlopen(mapping_link) as f:\n",
    "    html = f.read().decode('utf-8').split(\"\\n\")\n",
    "    csvreader = csv.reader(html, delimiter='\\t')\n",
    "labels = [row[1] for row in csvreader if len(row) > 1]\n",
    "\n",
    "model = AutoModelForSequenceClassification.from_pretrained(MODEL)\n",
    "model.save_pretrained(MODEL)\n",
    "\n",
    "text = twitter15['text'][0]\n",
    "encoded_input = tokenizer(text, return_tensors='pt')\n",
    "output = model(**encoded_input)\n",
    "scores = output[0][0].detach().numpy()\n",
    "scores = softmax(scores)"
   ]
  },
  {
   "cell_type": "code",
   "execution_count": 24,
   "metadata": {},
   "outputs": [
    {
     "name": "stdout",
     "output_type": "stream",
     "text": [
      "[468, 1917, 17]\n"
     ]
    }
   ],
   "source": [
    "record = [0, 0, 0]\n",
    "for text in pheme['text']:\n",
    "\n",
    "    # text = twitter15['text'][1]\n",
    "    encoded_input = tokenizer(text, return_tensors='pt')\n",
    "    output = model(**encoded_input)\n",
    "    scores = output[0][0].detach().numpy()\n",
    "    scores = softmax(scores)\n",
    "    \n",
    "    record[np.argmax(scores)] += 1\n",
    "\n",
    "print(record)"
   ]
  },
  {
   "cell_type": "code",
   "execution_count": 56,
   "metadata": {},
   "outputs": [
    {
     "name": "stdout",
     "output_type": "stream",
     "text": [
      "0.9971336600833496\n",
      "0.9993620803740608\n",
      "0.9978725045409813\n",
      "[355.0, 1096.0, 39.0]\n",
      "[154.0, 630.0, 34.0]\n",
      "[568.0, 1917.0, 17.0]\n"
     ]
    }
   ],
   "source": [
    "from numpy import dot\n",
    "from numpy.linalg import norm\n",
    "import math\n",
    "\n",
    "T15_SENTIMENT = [355 / 1, 1096 / 1, 39 / 1]\n",
    "T16_SENTIMENT = [154 / 1, 630 / 1, 34 / 1]\n",
    "PHEME_SENTIMENT = [568 / 1, 1917 / 1, 17 / 1]\n",
    "\n",
    "a = T15_SENTIMENT\n",
    "b = T16_SENTIMENT\n",
    "c = PHEME_SENTIMENT\n",
    "cos_sim = dot(a, b)/(norm(a)*norm(b))\n",
    "eucl_dist = math.dist(a, c)\n",
    "\n",
    "print(cos_sim)\n",
    "\n",
    "cos_sim = dot(a, c)/(norm(a)*norm(c))\n",
    "print(cos_sim)\n",
    "\n",
    "cos_sim = dot(b, c)/(norm(b)*norm(c))\n",
    "print(cos_sim)\n",
    "\n",
    "print(T15_SENTIMENT)\n",
    "print(T16_SENTIMENT)\n",
    "print(PHEME_SENTIMENT)"
   ]
  },
  {
   "cell_type": "code",
   "execution_count": 43,
   "metadata": {},
   "outputs": [],
   "source": [
    "from transformers import AutoModelForSequenceClassification, TFAutoModelForSequenceClassification\n",
    "from transformers import AutoTokenizer\n",
    "import numpy as np\n",
    "from scipy.special import expit\n",
    "\n",
    "MODEL = f\"cardiffnlp/tweet-topic-21-multi\"\n",
    "tokenizer = AutoTokenizer.from_pretrained(MODEL)\n",
    "\n",
    "# PT\n",
    "model = AutoModelForSequenceClassification.from_pretrained(MODEL)\n",
    "class_mapping = model.config.id2label"
   ]
  },
  {
   "cell_type": "code",
   "execution_count": 55,
   "metadata": {},
   "outputs": [
    {
     "name": "stdout",
     "output_type": "stream",
     "text": [
      "[62, 5, 98, 194, 1, 16, 126, 3, 42, 2, 6, 151, 1568, 9, 7, 3, 66, 42, 1]\n"
     ]
    }
   ],
   "source": [
    "TOPICS = [0, 0, 0, 0, 0, 0, 0, 0, 0, 0, 0, 0, 0, 0, 0, 0, 0, 0, 0]\n",
    "\n",
    "for text in pheme['text']:\n",
    "\n",
    "    # text = twitter15[\"text\"][\n",
    "    tokens = tokenizer(text, return_tensors='pt')\n",
    "    output = model(**tokens)\n",
    "\n",
    "    scores = output[0][0].detach().numpy()\n",
    "    scores = expit(scores)\n",
    "    # predictions = (scores >= 0.3) * 1\n",
    "\n",
    "    #for i in range(len(predictions)):\n",
    "    #    if predictions[i]:\n",
    "    #        print(class_mapping[i])\n",
    "    TOPICS[np.argmax(scores)] += 1\n",
    "print(TOPICS)\n",
    "\n"
   ]
  },
  {
   "cell_type": "code",
   "execution_count": 58,
   "metadata": {},
   "outputs": [
    {
     "name": "stdout",
     "output_type": "stream",
     "text": [
      "0.9412535786224928\n",
      "0.8358224807122016\n",
      "0.894460161329851\n"
     ]
    }
   ],
   "source": [
    "T15_TOPICS = [26, 35, 155, 111, 2, 9, 92, 10, 50, 8, 16, 31, 18, 3, 37, 74, 20]\n",
    "T16_TOPICS = [13, 22, 50, 79, 1, 8, 48, 5, 30, 0, 5, 18, 14, 13, 7, 47, 15]\n",
    "PHEME_TOPICS = [62, 5, 98, 194, 1, 16, 126, 3, 42, 2, 6, 151, 9, 7, 3, 66, 42]\n",
    "\n",
    "a = T15_TOPICS\n",
    "b = T16_TOPICS\n",
    "c = PHEME_TOPICS\n",
    "cos_sim = dot(a, b)/(norm(a)*norm(b))\n",
    "\n",
    "print(cos_sim)\n",
    "\n",
    "cos_sim = dot(a, c)/(norm(a)*norm(c))\n",
    "print(cos_sim)\n",
    "\n",
    "cos_sim = dot(b, c)/(norm(b)*norm(c))\n",
    "print(cos_sim)"
   ]
  },
  {
   "attachments": {},
   "cell_type": "markdown",
   "metadata": {},
   "source": [
    "# Run models"
   ]
  },
  {
   "cell_type": "code",
   "execution_count": 361,
   "metadata": {},
   "outputs": [],
   "source": [
    "# Model running function\n",
    "def run_model_after_gridsearch(best_estimators, X_train, y_train, X_test, y_test):\n",
    "    mod = best_estimators\n",
    "    mod.fit(X_train, y_train)\n",
    "    pred_y = mod.predict(X_test)\n",
    "    acc_mod = accuracy_score(y_test, pred_y)\n",
    "    print(\"Accuracy:\", float(\"{0:.2f}\".format(acc_mod*100)), \"%\")\n",
    "    f1_mod = f1_score(y_test, pred_y, average=\"macro\")\n",
    "    print(\"F1:\", float(\"{0:.2f}\".format(f1_mod*100)), \"%\")\n",
    "    cm = confusion_matrix(y_test, pred_y)\n",
    "    disp = ConfusionMatrixDisplay(confusion_matrix=cm, display_labels=[\"true\", \"false\"])\n",
    "    disp.plot()\n",
    "    plt.show()  "
   ]
  },
  {
   "cell_type": "code",
   "execution_count": 362,
   "metadata": {},
   "outputs": [],
   "source": [
    "def run_model_manually(model, X_test, y_test):\n",
    "    pred_y = model.predict(X_test)\n",
    "    acc_mod = accuracy_score(y_test, pred_y)\n",
    "    print(\"Accuracy:\", float(\"{0:.2f}\".format(acc_mod*100)), \"%\")\n",
    "    f1_mod = f1_score(y_test, pred_y, average=\"macro\")\n",
    "    print(\"F1:\", float(\"{0:.2f}\".format(f1_mod*100)), \"%\")\n",
    "    cm = confusion_matrix(y_test, pred_y)\n",
    "    disp = ConfusionMatrixDisplay(confusion_matrix=cm, display_labels=[\"true\", \"false\"])\n",
    "    disp.plot()\n",
    "    plt.show() "
   ]
  },
  {
   "cell_type": "code",
   "execution_count": 363,
   "metadata": {},
   "outputs": [],
   "source": [
    "def optimize_model(model, X_train, y_train):\n",
    "    mod = HyperoptEstimator(classifier=model,\n",
    "                            preprocessing=[],\n",
    "                            max_evals=50,\n",
    "                            trial_timeout=120)\n",
    "    mod.fit(X_train, y_train)\n",
    "    print(mod.best_model())\n",
    "    return mod\n",
    "\n",
    "def evaluate_model(model, X_test, y_test):\n",
    "    pred_y = model.predict(X_test)\n",
    "    acc_mod = accuracy_score(y_test, pred_y)\n",
    "    print(\"Accuracy:\", float(\"{0:.2f}\".format(acc_mod*100)), \"%\")\n",
    "    f1_mod = f1_score(y_test, pred_y, average=\"macro\")\n",
    "    print(\"F1:\", float(\"{0:.2f}\".format(f1_mod*100)), \"%\")\n",
    "    cm = confusion_matrix(y_test, pred_y)\n",
    "    disp = ConfusionMatrixDisplay(confusion_matrix=cm, display_labels=[\"true\", \"false\"])\n",
    "    disp.plot()\n",
    "    plt.show() \n",
    "    "
   ]
  },
  {
   "cell_type": "code",
   "execution_count": 364,
   "metadata": {},
   "outputs": [],
   "source": [
    "X_train = train_X.tolist()\n",
    "y_train = train_y.tolist()\n",
    "X_test = test_X.tolist()\n",
    "y_test = test_y.tolist()"
   ]
  },
  {
   "cell_type": "code",
   "execution_count": 365,
   "metadata": {},
   "outputs": [
    {
     "name": "stdout",
     "output_type": "stream",
     "text": [
      "100%|██████████| 1/1 [00:00<00:00,  1.16trial/s, best loss: 0.12195121951219512]\n",
      "100%|██████████| 2/2 [00:00<00:00,  1.70trial/s, best loss: 0.12195121951219512]\n",
      "100%|██████████| 3/3 [00:00<00:00,  1.80trial/s, best loss: 0.12195121951219512]\n",
      "100%|██████████| 4/4 [00:00<00:00,  1.78trial/s, best loss: 0.12195121951219512]\n",
      "100%|██████████| 5/5 [00:00<00:00,  1.73trial/s, best loss: 0.12195121951219512]\n",
      "100%|██████████| 6/6 [00:00<00:00,  1.62trial/s, best loss: 0.12195121951219512]\n",
      "100%|██████████| 7/7 [00:00<00:00,  1.73trial/s, best loss: 0.12195121951219512]\n",
      "100%|██████████| 8/8 [00:00<00:00,  1.70trial/s, best loss: 0.12195121951219512]\n",
      "100%|██████████| 9/9 [00:00<00:00,  1.71trial/s, best loss: 0.12195121951219512]\n",
      "100%|██████████| 10/10 [00:00<00:00,  1.77trial/s, best loss: 0.12195121951219512]\n",
      "100%|██████████| 11/11 [00:00<00:00,  1.69trial/s, best loss: 0.12195121951219512]\n",
      "100%|██████████| 12/12 [00:00<00:00,  1.67trial/s, best loss: 0.12195121951219512]\n",
      "100%|██████████| 13/13 [00:00<00:00,  1.76trial/s, best loss: 0.12195121951219512]\n",
      "100%|██████████| 14/14 [00:00<00:00,  1.69trial/s, best loss: 0.12195121951219512]\n",
      "100%|██████████| 15/15 [00:00<00:00,  1.78trial/s, best loss: 0.12195121951219512]\n",
      "100%|██████████| 16/16 [00:00<00:00,  1.64trial/s, best loss: 0.12195121951219512]\n",
      "100%|██████████| 17/17 [00:00<00:00,  1.64trial/s, best loss: 0.12195121951219512]\n",
      "100%|██████████| 18/18 [00:00<00:00,  1.83trial/s, best loss: 0.12195121951219512]\n",
      "100%|██████████| 19/19 [00:00<00:00,  1.76trial/s, best loss: 0.12195121951219512]\n",
      "100%|██████████| 20/20 [00:00<00:00,  1.78trial/s, best loss: 0.12195121951219512]\n",
      "100%|██████████| 21/21 [00:00<00:00,  1.83trial/s, best loss: 0.12195121951219512]\n",
      "100%|██████████| 22/22 [00:00<00:00,  1.73trial/s, best loss: 0.12195121951219512]\n",
      "100%|██████████| 23/23 [00:00<00:00,  1.67trial/s, best loss: 0.12195121951219512]\n",
      "100%|██████████| 24/24 [00:00<00:00,  1.72trial/s, best loss: 0.12195121951219512]\n",
      "100%|██████████| 25/25 [00:00<00:00,  1.73trial/s, best loss: 0.12195121951219512]\n",
      "100%|██████████| 26/26 [00:00<00:00,  1.80trial/s, best loss: 0.12195121951219512]\n",
      "100%|██████████| 27/27 [00:00<00:00,  1.72trial/s, best loss: 0.12195121951219512]\n",
      "100%|██████████| 28/28 [00:00<00:00,  1.82trial/s, best loss: 0.12195121951219512]\n",
      "100%|██████████| 29/29 [00:00<00:00,  1.79trial/s, best loss: 0.12195121951219512]\n",
      "100%|██████████| 30/30 [00:00<00:00,  1.77trial/s, best loss: 0.12195121951219512]\n",
      "100%|██████████| 31/31 [00:00<00:00,  1.74trial/s, best loss: 0.12195121951219512]\n",
      "100%|██████████| 32/32 [00:00<00:00,  1.69trial/s, best loss: 0.12195121951219512]\n",
      "100%|██████████| 33/33 [00:00<00:00,  1.76trial/s, best loss: 0.12195121951219512]\n",
      "100%|██████████| 34/34 [00:00<00:00,  1.81trial/s, best loss: 0.12195121951219512]\n",
      "100%|██████████| 35/35 [00:00<00:00,  1.75trial/s, best loss: 0.12195121951219512]\n",
      "100%|██████████| 36/36 [00:00<00:00,  1.70trial/s, best loss: 0.12195121951219512]\n",
      "100%|██████████| 37/37 [00:00<00:00,  1.81trial/s, best loss: 0.12195121951219512]\n",
      "100%|██████████| 38/38 [00:00<00:00,  1.70trial/s, best loss: 0.12195121951219512]\n",
      "100%|██████████| 39/39 [00:00<00:00,  1.75trial/s, best loss: 0.12195121951219512]\n",
      "100%|██████████| 40/40 [00:00<00:00,  1.74trial/s, best loss: 0.12195121951219512]\n",
      "100%|██████████| 41/41 [00:00<00:00,  1.78trial/s, best loss: 0.12195121951219512]\n",
      "100%|██████████| 42/42 [00:00<00:00,  1.69trial/s, best loss: 0.12195121951219512]\n",
      "100%|██████████| 43/43 [00:00<00:00,  1.68trial/s, best loss: 0.12195121951219512]\n",
      "100%|██████████| 44/44 [00:00<00:00,  1.84trial/s, best loss: 0.12195121951219512]\n",
      "100%|██████████| 45/45 [00:00<00:00,  1.86trial/s, best loss: 0.12195121951219512]\n",
      "100%|██████████| 46/46 [00:00<00:00,  1.78trial/s, best loss: 0.12195121951219512]\n",
      "100%|██████████| 47/47 [00:00<00:00,  1.74trial/s, best loss: 0.12195121951219512]\n",
      "100%|██████████| 48/48 [00:00<00:00,  1.70trial/s, best loss: 0.12195121951219512]\n",
      "100%|██████████| 49/49 [00:00<00:00,  1.71trial/s, best loss: 0.12195121951219512]\n",
      "100%|██████████| 50/50 [00:00<00:00,  1.76trial/s, best loss: 0.12195121951219512]\n",
      "{'learner': SVC(C=1.230997542162419, coef0=0.30305872369058706,\n",
      "    decision_function_shape='ovo', degree=4, kernel='linear', probability=True,\n",
      "    random_state=4, tol=1.1436914984784e-05), 'preprocs': (), 'ex_preprocs': ()}\n"
     ]
    }
   ],
   "source": [
    "# SVM\n",
    "from hpsklearn import svc \n",
    "svm = optimize_model(svc(\"mySVC\", probability=True), X_train, y_train)"
   ]
  },
  {
   "cell_type": "code",
   "execution_count": 366,
   "metadata": {},
   "outputs": [
    {
     "name": "stdout",
     "output_type": "stream",
     "text": [
      "Accuracy: 73.46 %\n",
      "F1: 66.7 %\n"
     ]
    },
    {
     "data": {
      "image/png": "[encoded data removed]",
      "text/plain": [
       "<Figure size 640x480 with 2 Axes>"
      ]
     },
     "metadata": {},
     "output_type": "display_data"
    }
   ],
   "source": [
    "evaluate_model(svm, X_test, y_test)"
   ]
  },
  {
   "cell_type": "code",
   "execution_count": 367,
   "metadata": {},
   "outputs": [
    {
     "name": "stdout",
     "output_type": "stream",
     "text": [
      "100%|██████████| 1/1 [00:00<00:00,  1.70trial/s, best loss: 0.1544715447154471]\n",
      "100%|██████████| 2/2 [00:00<00:00,  1.57trial/s, best loss: 0.1544715447154471]\n",
      "100%|██████████| 3/3 [00:00<00:00,  1.74trial/s, best loss: 0.1544715447154471]\n",
      "100%|██████████| 4/4 [00:00<00:00,  1.95trial/s, best loss: 0.1544715447154471]\n",
      "100%|██████████| 5/5 [00:00<00:00,  1.66trial/s, best loss: 0.14634146341463417]\n",
      "100%|██████████| 6/6 [00:00<00:00,  1.65trial/s, best loss: 0.14634146341463417]\n",
      "100%|██████████| 7/7 [00:00<00:00,  1.59trial/s, best loss: 0.14634146341463417]\n",
      "100%|██████████| 8/8 [00:00<00:00,  1.51trial/s, best loss: 0.14634146341463417]\n",
      "100%|██████████| 9/9 [00:00<00:00,  1.61trial/s, best loss: 0.14634146341463417]\n",
      "100%|██████████| 10/10 [00:00<00:00,  1.62trial/s, best loss: 0.1382113821138211]\n",
      "100%|██████████| 11/11 [00:00<00:00,  1.60trial/s, best loss: 0.1382113821138211]\n",
      "100%|██████████| 12/12 [00:00<00:00,  1.70trial/s, best loss: 0.1382113821138211]\n",
      "100%|██████████| 13/13 [00:00<00:00,  1.61trial/s, best loss: 0.1382113821138211]\n",
      "100%|██████████| 14/14 [00:00<00:00,  1.33trial/s, best loss: 0.1382113821138211]\n",
      "100%|██████████| 15/15 [00:00<00:00,  1.46trial/s, best loss: 0.1382113821138211]\n",
      "100%|██████████| 16/16 [00:00<00:00,  1.63trial/s, best loss: 0.1382113821138211]\n",
      "100%|██████████| 17/17 [00:00<00:00,  1.65trial/s, best loss: 0.1382113821138211]\n",
      "100%|██████████| 18/18 [00:00<00:00,  1.25trial/s, best loss: 0.13008130081300817]\n",
      "100%|██████████| 19/19 [00:00<00:00,  1.87trial/s, best loss: 0.13008130081300817]\n",
      "100%|██████████| 20/20 [00:00<00:00,  1.60trial/s, best loss: 0.13008130081300817]\n",
      "100%|██████████| 21/21 [00:00<00:00,  1.82trial/s, best loss: 0.13008130081300817]\n",
      "100%|██████████| 22/22 [00:00<00:00,  1.91trial/s, best loss: 0.13008130081300817]\n",
      "100%|██████████| 23/23 [00:00<00:00,  1.71trial/s, best loss: 0.13008130081300817]\n",
      "100%|██████████| 24/24 [00:00<00:00,  1.78trial/s, best loss: 0.12195121951219512]\n",
      "100%|██████████| 25/25 [00:00<00:00,  1.49trial/s, best loss: 0.12195121951219512]\n",
      "100%|██████████| 26/26 [00:00<00:00,  1.81trial/s, best loss: 0.12195121951219512]\n",
      "100%|██████████| 27/27 [00:00<00:00,  1.61trial/s, best loss: 0.12195121951219512]\n",
      "100%|██████████| 28/28 [00:00<00:00,  1.82trial/s, best loss: 0.12195121951219512]\n",
      "100%|██████████| 29/29 [00:00<00:00,  1.82trial/s, best loss: 0.12195121951219512]\n",
      "100%|██████████| 30/30 [00:00<00:00,  1.36trial/s, best loss: 0.12195121951219512]\n",
      "100%|██████████| 31/31 [00:00<00:00,  1.40trial/s, best loss: 0.12195121951219512]\n",
      "100%|██████████| 32/32 [00:00<00:00,  1.48trial/s, best loss: 0.12195121951219512]\n",
      "100%|██████████| 33/33 [00:00<00:00,  1.77trial/s, best loss: 0.12195121951219512]\n",
      "100%|██████████| 34/34 [00:00<00:00,  1.66trial/s, best loss: 0.12195121951219512]\n",
      "100%|██████████| 35/35 [00:00<00:00,  1.85trial/s, best loss: 0.12195121951219512]\n",
      "100%|██████████| 36/36 [00:00<00:00,  1.75trial/s, best loss: 0.12195121951219512]\n",
      "100%|██████████| 37/37 [00:00<00:00,  1.76trial/s, best loss: 0.12195121951219512]\n",
      "100%|██████████| 38/38 [00:00<00:00,  1.48trial/s, best loss: 0.12195121951219512]\n",
      "100%|██████████| 39/39 [00:00<00:00,  1.61trial/s, best loss: 0.12195121951219512]\n",
      "100%|██████████| 40/40 [00:00<00:00,  1.93trial/s, best loss: 0.12195121951219512]\n",
      "100%|██████████| 41/41 [00:00<00:00,  1.78trial/s, best loss: 0.12195121951219512]\n",
      "100%|██████████| 42/42 [00:00<00:00,  1.54trial/s, best loss: 0.12195121951219512]\n",
      "100%|██████████| 43/43 [00:00<00:00,  1.74trial/s, best loss: 0.12195121951219512]\n",
      "100%|██████████| 44/44 [00:00<00:00,  1.66trial/s, best loss: 0.12195121951219512]\n",
      "100%|██████████| 45/45 [00:00<00:00,  1.78trial/s, best loss: 0.12195121951219512]\n",
      "100%|██████████| 46/46 [00:00<00:00,  1.66trial/s, best loss: 0.12195121951219512]\n",
      "100%|██████████| 47/47 [00:00<00:00,  1.72trial/s, best loss: 0.12195121951219512]\n",
      "100%|██████████| 48/48 [00:00<00:00,  1.84trial/s, best loss: 0.12195121951219512]\n",
      "100%|██████████| 49/49 [00:00<00:00,  1.78trial/s, best loss: 0.12195121951219512]\n",
      "100%|██████████| 50/50 [00:00<00:00,  1.67trial/s, best loss: 0.12195121951219512]\n",
      "{'learner': KNeighborsClassifier(algorithm='ball_tree', leaf_size=26, metric='l1', n_jobs=1,\n",
      "                     n_neighbors=1, p=2.857908451531454), 'preprocs': (), 'ex_preprocs': ()}\n"
     ]
    }
   ],
   "source": [
    "# KNN\n",
    "from hpsklearn import k_neighbors_classifier\n",
    "from hyperopt import hp\n",
    "knn_metrics = hp.choice(\"metric\", {'cityblock', 'l1', 'l2', 'euclidean', 'manhattan'})\n",
    "knn= optimize_model(k_neighbors_classifier(\"myKNN\"), X_train, y_train)"
   ]
  },
  {
   "cell_type": "code",
   "execution_count": 368,
   "metadata": {},
   "outputs": [
    {
     "name": "stdout",
     "output_type": "stream",
     "text": [
      "Accuracy: 69.44 %\n",
      "F1: 61.77 %\n"
     ]
    },
    {
     "data": {
      "image/png": "[encoded data removed]",
      "text/plain": [
       "<Figure size 640x480 with 2 Axes>"
      ]
     },
     "metadata": {},
     "output_type": "display_data"
    }
   ],
   "source": [
    "evaluate_model(knn, X_test, y_test)"
   ]
  },
  {
   "cell_type": "code",
   "execution_count": 369,
   "metadata": {},
   "outputs": [
    {
     "name": "stdout",
     "output_type": "stream",
     "text": [
      "100%|██████████| 1/1 [00:00<00:00,  1.81trial/s, best loss: 0.10569105691056913]\n",
      " 50%|█████     | 1/2 [00:00<?, ?trial/s, best loss=?]"
     ]
    },
    {
     "name": "stderr",
     "output_type": "stream",
     "text": [
      "job exception: unsupported operand type(s) for -: 'int' and 'NoneType'\n",
      "\n"
     ]
    },
    {
     "name": "stdout",
     "output_type": "stream",
     "text": [
      " 50%|█████     | 1/2 [00:00<?, ?trial/s, best loss=?]\n"
     ]
    },
    {
     "ename": "TypeError",
     "evalue": "unsupported operand type(s) for -: 'int' and 'NoneType'",
     "output_type": "error",
     "traceback": [
      "\u001b[0;31m---------------------------------------------------------------------------\u001b[0m",
      "\u001b[0;31mTypeError\u001b[0m                                 Traceback (most recent call last)",
      "Cell \u001b[0;32mIn[369], line 3\u001b[0m\n\u001b[1;32m      1\u001b[0m \u001b[39m# Logistic Regression logistic_regression\u001b[39;00m\n\u001b[1;32m      2\u001b[0m \u001b[39mfrom\u001b[39;00m \u001b[39mhpsklearn\u001b[39;00m \u001b[39mimport\u001b[39;00m logistic_regression\n\u001b[0;32m----> 3\u001b[0m myLR \u001b[39m=\u001b[39m optimize_model(logistic_regression(\u001b[39m\"\u001b[39m\u001b[39mmyLR\u001b[39m\u001b[39m\"\u001b[39m), X_train, y_train)\n",
      "Cell \u001b[0;32mIn[363], line 6\u001b[0m, in \u001b[0;36moptimize_model\u001b[0;34m(model, X_train, y_train)\u001b[0m\n\u001b[1;32m      1\u001b[0m \u001b[39mdef\u001b[39;00m \u001b[39moptimize_model\u001b[39m(model, X_train, y_train):\n\u001b[1;32m      2\u001b[0m     mod \u001b[39m=\u001b[39m HyperoptEstimator(classifier\u001b[39m=\u001b[39mmodel,\n\u001b[1;32m      3\u001b[0m                             preprocessing\u001b[39m=\u001b[39m[],\n\u001b[1;32m      4\u001b[0m                             max_evals\u001b[39m=\u001b[39m\u001b[39m50\u001b[39m,\n\u001b[1;32m      5\u001b[0m                             trial_timeout\u001b[39m=\u001b[39m\u001b[39m120\u001b[39m)\n\u001b[0;32m----> 6\u001b[0m     mod\u001b[39m.\u001b[39mfit(X_train, y_train)\n\u001b[1;32m      7\u001b[0m     \u001b[39mprint\u001b[39m(mod\u001b[39m.\u001b[39mbest_model())\n\u001b[1;32m      8\u001b[0m     \u001b[39mreturn\u001b[39;00m mod\n",
      "File \u001b[0;32m~/miniconda3/envs/will/lib/python3.11/site-packages/hpsklearn/estimator/estimator.py:464\u001b[0m, in \u001b[0;36mhyperopt_estimator.fit\u001b[0;34m(self, X, y, EX_list, valid_size, n_folds, cv_shuffle, warm_start, random_state)\u001b[0m\n\u001b[1;32m    461\u001b[0m \u001b[39mtry\u001b[39;00m:\n\u001b[1;32m    462\u001b[0m     increment \u001b[39m=\u001b[39m \u001b[39mmin\u001b[39m(\u001b[39mself\u001b[39m\u001b[39m.\u001b[39mfit_increment,\n\u001b[1;32m    463\u001b[0m                     adjusted_max_evals \u001b[39m-\u001b[39m \u001b[39mlen\u001b[39m(\u001b[39mself\u001b[39m\u001b[39m.\u001b[39mtrials\u001b[39m.\u001b[39mtrials))\n\u001b[0;32m--> 464\u001b[0m     fit_iter\u001b[39m.\u001b[39msend(increment)\n\u001b[1;32m    466\u001b[0m     \u001b[39mif\u001b[39;00m \u001b[39mself\u001b[39m\u001b[39m.\u001b[39mfit_increment_dump_filename \u001b[39mis\u001b[39;00m \u001b[39mnot\u001b[39;00m \u001b[39mNone\u001b[39;00m:\n\u001b[1;32m    467\u001b[0m         \u001b[39mwith\u001b[39;00m \u001b[39mopen\u001b[39m(\u001b[39mself\u001b[39m\u001b[39m.\u001b[39mfit_increment_dump_filename, \u001b[39m\"\u001b[39m\u001b[39mwb\u001b[39m\u001b[39m\"\u001b[39m) \u001b[39mas\u001b[39;00m dump_file:\n",
      "File \u001b[0;32m~/miniconda3/envs/will/lib/python3.11/site-packages/hpsklearn/estimator/estimator.py:339\u001b[0m, in \u001b[0;36mhyperopt_estimator.fit_iter\u001b[0;34m(self, X, y, EX_list, valid_size, n_folds, cv_shuffle, warm_start, random_state)\u001b[0m\n\u001b[1;32m    337\u001b[0m \u001b[39m# Workaround for rstate issue #35\u001b[39;00m\n\u001b[1;32m    338\u001b[0m \u001b[39mif\u001b[39;00m \u001b[39m\"\u001b[39m\u001b[39mrstate\u001b[39m\u001b[39m\"\u001b[39m \u001b[39min\u001b[39;00m inspect\u001b[39m.\u001b[39mgetfullargspec(hyperopt\u001b[39m.\u001b[39mfmin)\u001b[39m.\u001b[39margs:\n\u001b[0;32m--> 339\u001b[0m     hyperopt\u001b[39m.\u001b[39mfmin(_fn_with_timeout,\n\u001b[1;32m    340\u001b[0m                   space\u001b[39m=\u001b[39m\u001b[39mself\u001b[39m\u001b[39m.\u001b[39mspace,\n\u001b[1;32m    341\u001b[0m                   algo\u001b[39m=\u001b[39m\u001b[39mself\u001b[39m\u001b[39m.\u001b[39malgo,\n\u001b[1;32m    342\u001b[0m                   trials\u001b[39m=\u001b[39m\u001b[39mself\u001b[39m\u001b[39m.\u001b[39mtrials,\n\u001b[1;32m    343\u001b[0m                   max_evals\u001b[39m=\u001b[39m\u001b[39mlen\u001b[39m(\u001b[39mself\u001b[39m\u001b[39m.\u001b[39mtrials\u001b[39m.\u001b[39mtrials) \u001b[39m+\u001b[39m increment,\n\u001b[1;32m    344\u001b[0m                   \u001b[39m# -- let exceptions crash the program, so we notice them.\u001b[39;00m\n\u001b[1;32m    345\u001b[0m                   catch_eval_exceptions\u001b[39m=\u001b[39m\u001b[39mFalse\u001b[39;00m,\n\u001b[1;32m    346\u001b[0m                   return_argmin\u001b[39m=\u001b[39m\u001b[39mFalse\u001b[39;00m)  \u001b[39m# -- in case no success so far\u001b[39;00m\n\u001b[1;32m    347\u001b[0m \u001b[39melse\u001b[39;00m:\n\u001b[1;32m    348\u001b[0m     \u001b[39mif\u001b[39;00m \u001b[39mself\u001b[39m\u001b[39m.\u001b[39mseed \u001b[39mis\u001b[39;00m \u001b[39mNone\u001b[39;00m:\n",
      "File \u001b[0;32m~/miniconda3/envs/will/lib/python3.11/site-packages/hyperopt/fmin.py:540\u001b[0m, in \u001b[0;36mfmin\u001b[0;34m(fn, space, algo, max_evals, timeout, loss_threshold, trials, rstate, allow_trials_fmin, pass_expr_memo_ctrl, catch_eval_exceptions, verbose, return_argmin, points_to_evaluate, max_queue_len, show_progressbar, early_stop_fn, trials_save_file)\u001b[0m\n\u001b[1;32m    537\u001b[0m     fn \u001b[39m=\u001b[39m __objective_fmin_wrapper(fn)\n\u001b[1;32m    539\u001b[0m \u001b[39mif\u001b[39;00m allow_trials_fmin \u001b[39mand\u001b[39;00m \u001b[39mhasattr\u001b[39m(trials, \u001b[39m\"\u001b[39m\u001b[39mfmin\u001b[39m\u001b[39m\"\u001b[39m):\n\u001b[0;32m--> 540\u001b[0m     \u001b[39mreturn\u001b[39;00m trials\u001b[39m.\u001b[39mfmin(\n\u001b[1;32m    541\u001b[0m         fn,\n\u001b[1;32m    542\u001b[0m         space,\n\u001b[1;32m    543\u001b[0m         algo\u001b[39m=\u001b[39malgo,\n\u001b[1;32m    544\u001b[0m         max_evals\u001b[39m=\u001b[39mmax_evals,\n\u001b[1;32m    545\u001b[0m         timeout\u001b[39m=\u001b[39mtimeout,\n\u001b[1;32m    546\u001b[0m         loss_threshold\u001b[39m=\u001b[39mloss_threshold,\n\u001b[1;32m    547\u001b[0m         max_queue_len\u001b[39m=\u001b[39mmax_queue_len,\n\u001b[1;32m    548\u001b[0m         rstate\u001b[39m=\u001b[39mrstate,\n\u001b[1;32m    549\u001b[0m         pass_expr_memo_ctrl\u001b[39m=\u001b[39mpass_expr_memo_ctrl,\n\u001b[1;32m    550\u001b[0m         verbose\u001b[39m=\u001b[39mverbose,\n\u001b[1;32m    551\u001b[0m         catch_eval_exceptions\u001b[39m=\u001b[39mcatch_eval_exceptions,\n\u001b[1;32m    552\u001b[0m         return_argmin\u001b[39m=\u001b[39mreturn_argmin,\n\u001b[1;32m    553\u001b[0m         show_progressbar\u001b[39m=\u001b[39mshow_progressbar,\n\u001b[1;32m    554\u001b[0m         early_stop_fn\u001b[39m=\u001b[39mearly_stop_fn,\n\u001b[1;32m    555\u001b[0m         trials_save_file\u001b[39m=\u001b[39mtrials_save_file,\n\u001b[1;32m    556\u001b[0m     )\n\u001b[1;32m    558\u001b[0m \u001b[39mif\u001b[39;00m trials \u001b[39mis\u001b[39;00m \u001b[39mNone\u001b[39;00m:\n\u001b[1;32m    559\u001b[0m     \u001b[39mif\u001b[39;00m os\u001b[39m.\u001b[39mpath\u001b[39m.\u001b[39mexists(trials_save_file):\n",
      "File \u001b[0;32m~/miniconda3/envs/will/lib/python3.11/site-packages/hyperopt/base.py:671\u001b[0m, in \u001b[0;36mTrials.fmin\u001b[0;34m(self, fn, space, algo, max_evals, timeout, loss_threshold, max_queue_len, rstate, verbose, pass_expr_memo_ctrl, catch_eval_exceptions, return_argmin, show_progressbar, early_stop_fn, trials_save_file)\u001b[0m\n\u001b[1;32m    666\u001b[0m \u001b[39m# -- Stop-gap implementation!\u001b[39;00m\n\u001b[1;32m    667\u001b[0m \u001b[39m#    fmin should have been a Trials method in the first place\u001b[39;00m\n\u001b[1;32m    668\u001b[0m \u001b[39m#    but for now it's still sitting in another file.\u001b[39;00m\n\u001b[1;32m    669\u001b[0m \u001b[39mfrom\u001b[39;00m \u001b[39m.\u001b[39;00m\u001b[39mfmin\u001b[39;00m \u001b[39mimport\u001b[39;00m fmin\n\u001b[0;32m--> 671\u001b[0m \u001b[39mreturn\u001b[39;00m fmin(\n\u001b[1;32m    672\u001b[0m     fn,\n\u001b[1;32m    673\u001b[0m     space,\n\u001b[1;32m    674\u001b[0m     algo\u001b[39m=\u001b[39malgo,\n\u001b[1;32m    675\u001b[0m     max_evals\u001b[39m=\u001b[39mmax_evals,\n\u001b[1;32m    676\u001b[0m     timeout\u001b[39m=\u001b[39mtimeout,\n\u001b[1;32m    677\u001b[0m     loss_threshold\u001b[39m=\u001b[39mloss_threshold,\n\u001b[1;32m    678\u001b[0m     trials\u001b[39m=\u001b[39m\u001b[39mself\u001b[39m,\n\u001b[1;32m    679\u001b[0m     rstate\u001b[39m=\u001b[39mrstate,\n\u001b[1;32m    680\u001b[0m     verbose\u001b[39m=\u001b[39mverbose,\n\u001b[1;32m    681\u001b[0m     max_queue_len\u001b[39m=\u001b[39mmax_queue_len,\n\u001b[1;32m    682\u001b[0m     allow_trials_fmin\u001b[39m=\u001b[39m\u001b[39mFalse\u001b[39;00m,  \u001b[39m# -- prevent recursion\u001b[39;00m\n\u001b[1;32m    683\u001b[0m     pass_expr_memo_ctrl\u001b[39m=\u001b[39mpass_expr_memo_ctrl,\n\u001b[1;32m    684\u001b[0m     catch_eval_exceptions\u001b[39m=\u001b[39mcatch_eval_exceptions,\n\u001b[1;32m    685\u001b[0m     return_argmin\u001b[39m=\u001b[39mreturn_argmin,\n\u001b[1;32m    686\u001b[0m     show_progressbar\u001b[39m=\u001b[39mshow_progressbar,\n\u001b[1;32m    687\u001b[0m     early_stop_fn\u001b[39m=\u001b[39mearly_stop_fn,\n\u001b[1;32m    688\u001b[0m     trials_save_file\u001b[39m=\u001b[39mtrials_save_file,\n\u001b[1;32m    689\u001b[0m )\n",
      "File \u001b[0;32m~/miniconda3/envs/will/lib/python3.11/site-packages/hyperopt/fmin.py:586\u001b[0m, in \u001b[0;36mfmin\u001b[0;34m(fn, space, algo, max_evals, timeout, loss_threshold, trials, rstate, allow_trials_fmin, pass_expr_memo_ctrl, catch_eval_exceptions, verbose, return_argmin, points_to_evaluate, max_queue_len, show_progressbar, early_stop_fn, trials_save_file)\u001b[0m\n\u001b[1;32m    583\u001b[0m rval\u001b[39m.\u001b[39mcatch_eval_exceptions \u001b[39m=\u001b[39m catch_eval_exceptions\n\u001b[1;32m    585\u001b[0m \u001b[39m# next line is where the fmin is actually executed\u001b[39;00m\n\u001b[0;32m--> 586\u001b[0m rval\u001b[39m.\u001b[39mexhaust()\n\u001b[1;32m    588\u001b[0m \u001b[39mif\u001b[39;00m return_argmin:\n\u001b[1;32m    589\u001b[0m     \u001b[39mif\u001b[39;00m \u001b[39mlen\u001b[39m(trials\u001b[39m.\u001b[39mtrials) \u001b[39m==\u001b[39m \u001b[39m0\u001b[39m:\n",
      "File \u001b[0;32m~/miniconda3/envs/will/lib/python3.11/site-packages/hyperopt/fmin.py:364\u001b[0m, in \u001b[0;36mFMinIter.exhaust\u001b[0;34m(self)\u001b[0m\n\u001b[1;32m    362\u001b[0m \u001b[39mdef\u001b[39;00m \u001b[39mexhaust\u001b[39m(\u001b[39mself\u001b[39m):\n\u001b[1;32m    363\u001b[0m     n_done \u001b[39m=\u001b[39m \u001b[39mlen\u001b[39m(\u001b[39mself\u001b[39m\u001b[39m.\u001b[39mtrials)\n\u001b[0;32m--> 364\u001b[0m     \u001b[39mself\u001b[39m\u001b[39m.\u001b[39mrun(\u001b[39mself\u001b[39m\u001b[39m.\u001b[39mmax_evals \u001b[39m-\u001b[39m n_done, block_until_done\u001b[39m=\u001b[39m\u001b[39mself\u001b[39m\u001b[39m.\u001b[39masynchronous)\n\u001b[1;32m    365\u001b[0m     \u001b[39mself\u001b[39m\u001b[39m.\u001b[39mtrials\u001b[39m.\u001b[39mrefresh()\n\u001b[1;32m    366\u001b[0m     \u001b[39mreturn\u001b[39;00m \u001b[39mself\u001b[39m\n",
      "File \u001b[0;32m~/miniconda3/envs/will/lib/python3.11/site-packages/hyperopt/fmin.py:300\u001b[0m, in \u001b[0;36mFMinIter.run\u001b[0;34m(self, N, block_until_done)\u001b[0m\n\u001b[1;32m    297\u001b[0m     time\u001b[39m.\u001b[39msleep(\u001b[39mself\u001b[39m\u001b[39m.\u001b[39mpoll_interval_secs)\n\u001b[1;32m    298\u001b[0m \u001b[39melse\u001b[39;00m:\n\u001b[1;32m    299\u001b[0m     \u001b[39m# -- loop over trials and do the jobs directly\u001b[39;00m\n\u001b[0;32m--> 300\u001b[0m     \u001b[39mself\u001b[39m\u001b[39m.\u001b[39mserial_evaluate()\n\u001b[1;32m    302\u001b[0m \u001b[39mself\u001b[39m\u001b[39m.\u001b[39mtrials\u001b[39m.\u001b[39mrefresh()\n\u001b[1;32m    303\u001b[0m \u001b[39mif\u001b[39;00m \u001b[39mself\u001b[39m\u001b[39m.\u001b[39mtrials_save_file \u001b[39m!=\u001b[39m \u001b[39m\"\u001b[39m\u001b[39m\"\u001b[39m:\n",
      "File \u001b[0;32m~/miniconda3/envs/will/lib/python3.11/site-packages/hyperopt/fmin.py:178\u001b[0m, in \u001b[0;36mFMinIter.serial_evaluate\u001b[0;34m(self, N)\u001b[0m\n\u001b[1;32m    176\u001b[0m ctrl \u001b[39m=\u001b[39m base\u001b[39m.\u001b[39mCtrl(\u001b[39mself\u001b[39m\u001b[39m.\u001b[39mtrials, current_trial\u001b[39m=\u001b[39mtrial)\n\u001b[1;32m    177\u001b[0m \u001b[39mtry\u001b[39;00m:\n\u001b[0;32m--> 178\u001b[0m     result \u001b[39m=\u001b[39m \u001b[39mself\u001b[39m\u001b[39m.\u001b[39mdomain\u001b[39m.\u001b[39mevaluate(spec, ctrl)\n\u001b[1;32m    179\u001b[0m \u001b[39mexcept\u001b[39;00m \u001b[39mException\u001b[39;00m \u001b[39mas\u001b[39;00m e:\n\u001b[1;32m    180\u001b[0m     logger\u001b[39m.\u001b[39merror(\u001b[39m\"\u001b[39m\u001b[39mjob exception: \u001b[39m\u001b[39m%s\u001b[39;00m\u001b[39m\"\u001b[39m \u001b[39m%\u001b[39m \u001b[39mstr\u001b[39m(e))\n",
      "File \u001b[0;32m~/miniconda3/envs/will/lib/python3.11/site-packages/hyperopt/base.py:892\u001b[0m, in \u001b[0;36mDomain.evaluate\u001b[0;34m(self, config, ctrl, attach_attachments)\u001b[0m\n\u001b[1;32m    883\u001b[0m \u001b[39melse\u001b[39;00m:\n\u001b[1;32m    884\u001b[0m     \u001b[39m# -- the \"work\" of evaluating `config` can be written\u001b[39;00m\n\u001b[1;32m    885\u001b[0m     \u001b[39m#    either into the pyll part (self.expr)\u001b[39;00m\n\u001b[1;32m    886\u001b[0m     \u001b[39m#    or the normal Python part (self.fn)\u001b[39;00m\n\u001b[1;32m    887\u001b[0m     pyll_rval \u001b[39m=\u001b[39m pyll\u001b[39m.\u001b[39mrec_eval(\n\u001b[1;32m    888\u001b[0m         \u001b[39mself\u001b[39m\u001b[39m.\u001b[39mexpr,\n\u001b[1;32m    889\u001b[0m         memo\u001b[39m=\u001b[39mmemo,\n\u001b[1;32m    890\u001b[0m         print_node_on_error\u001b[39m=\u001b[39m\u001b[39mself\u001b[39m\u001b[39m.\u001b[39mrec_eval_print_node_on_error,\n\u001b[1;32m    891\u001b[0m     )\n\u001b[0;32m--> 892\u001b[0m     rval \u001b[39m=\u001b[39m \u001b[39mself\u001b[39m\u001b[39m.\u001b[39mfn(pyll_rval)\n\u001b[1;32m    894\u001b[0m \u001b[39mif\u001b[39;00m \u001b[39misinstance\u001b[39m(rval, (\u001b[39mfloat\u001b[39m, \u001b[39mint\u001b[39m, np\u001b[39m.\u001b[39mnumber)):\n\u001b[1;32m    895\u001b[0m     dict_rval \u001b[39m=\u001b[39m {\u001b[39m\"\u001b[39m\u001b[39mloss\u001b[39m\u001b[39m\"\u001b[39m: \u001b[39mfloat\u001b[39m(rval), \u001b[39m\"\u001b[39m\u001b[39mstatus\u001b[39m\u001b[39m\"\u001b[39m: STATUS_OK}\n",
      "File \u001b[0;32m~/miniconda3/envs/will/lib/python3.11/site-packages/hpsklearn/estimator/estimator.py:311\u001b[0m, in \u001b[0;36mhyperopt_estimator.fit_iter.<locals>._fn_with_timeout\u001b[0;34m(*args, **kwargs)\u001b[0m\n\u001b[1;32m    309\u001b[0m \u001b[39massert\u001b[39;00m fn_rval[\u001b[39m0\u001b[39m] \u001b[39min\u001b[39;00m (\u001b[39m\"\u001b[39m\u001b[39mraise\u001b[39m\u001b[39m\"\u001b[39m, \u001b[39m\"\u001b[39m\u001b[39mreturn\u001b[39m\u001b[39m\"\u001b[39m)\n\u001b[1;32m    310\u001b[0m \u001b[39mif\u001b[39;00m fn_rval[\u001b[39m0\u001b[39m] \u001b[39m==\u001b[39m \u001b[39m\"\u001b[39m\u001b[39mraise\u001b[39m\u001b[39m\"\u001b[39m:\n\u001b[0;32m--> 311\u001b[0m     \u001b[39mraise\u001b[39;00m fn_rval[\u001b[39m1\u001b[39m]\n\u001b[1;32m    313\u001b[0m \u001b[39m# -- remove potentially large objects from the rval\u001b[39;00m\n\u001b[1;32m    314\u001b[0m \u001b[39m#    so that the Trials() object below stays small\u001b[39;00m\n\u001b[1;32m    315\u001b[0m \u001b[39m#    We can recompute them if necessary, and it's usually\u001b[39;00m\n\u001b[1;32m    316\u001b[0m \u001b[39m#    not necessary at all.\u001b[39;00m\n\u001b[1;32m    317\u001b[0m \u001b[39mif\u001b[39;00m fn_rval[\u001b[39m1\u001b[39m][\u001b[39m\"\u001b[39m\u001b[39mstatus\u001b[39m\u001b[39m\"\u001b[39m] \u001b[39m==\u001b[39m hyperopt\u001b[39m.\u001b[39mSTATUS_OK:\n",
      "\u001b[0;31mTypeError\u001b[0m: unsupported operand type(s) for -: 'int' and 'NoneType'"
     ]
    }
   ],
   "source": [
    "# Logistic Regression logistic_regression\n",
    "from hpsklearn import logistic_regression\n",
    "myLR = optimize_model(logistic_regression(\"myLR\"), X_train, y_train)\n",
    "#print(X_train)"
   ]
  },
  {
   "cell_type": "code",
   "execution_count": null,
   "metadata": {},
   "outputs": [
    {
     "name": "stdout",
     "output_type": "stream",
     "text": [
      "Accuracy: 78.55 %\n",
      "F1: 65.94 %\n"
     ]
    },
    {
     "data": {
      "image/png": "[encoded data removed]",
      "text/plain": [
       "<Figure size 640x480 with 2 Axes>"
      ]
     },
     "metadata": {},
     "output_type": "display_data"
    }
   ],
   "source": [
    "evaluate_model(myLR, X_test, y_test)"
   ]
  },
  {
   "cell_type": "code",
   "execution_count": null,
   "metadata": {},
   "outputs": [
    {
     "name": "stdout",
     "output_type": "stream",
     "text": [
      "  0%|          | 0/1 [00:00<?, ?trial/s, best loss=?]"
     ]
    },
    {
     "name": "stdout",
     "output_type": "stream",
     "text": [
      "100%|██████████| 1/1 [00:00<00:00,  1.82trial/s, best loss: 0.28125]\n",
      " 50%|█████     | 1/2 [00:00<?, ?trial/s, best loss=?]"
     ]
    },
    {
     "name": "stderr",
     "output_type": "stream",
     "text": [
      "/Users/aij/miniconda3/envs/will/lib/python3.11/site-packages/sklearn/ensemble/_base.py:166: FutureWarning: `base_estimator` was renamed to `estimator` in version 1.2 and will be removed in 1.4.\n",
      "  warnings.warn(\n"
     ]
    },
    {
     "name": "stdout",
     "output_type": "stream",
     "text": [
      "100%|██████████| 2/2 [00:00<00:00,  1.69trial/s, best loss: 0.2455357142857143]\n",
      " 67%|██████▋   | 2/3 [00:00<?, ?trial/s, best loss=?]"
     ]
    },
    {
     "name": "stderr",
     "output_type": "stream",
     "text": [
      "/Users/aij/miniconda3/envs/will/lib/python3.11/site-packages/sklearn/ensemble/_base.py:166: FutureWarning: `base_estimator` was renamed to `estimator` in version 1.2 and will be removed in 1.4.\n",
      "  warnings.warn(\n",
      "/Users/aij/miniconda3/envs/will/lib/python3.11/site-packages/sklearn/ensemble/_base.py:166: FutureWarning: `base_estimator` was renamed to `estimator` in version 1.2 and will be removed in 1.4.\n",
      "  warnings.warn(\n"
     ]
    },
    {
     "name": "stdout",
     "output_type": "stream",
     "text": [
      "100%|██████████| 3/3 [00:00<00:00,  1.25trial/s, best loss: 0.1651785714285714]\n",
      " 75%|███████▌  | 3/4 [00:00<?, ?trial/s, best loss=?]"
     ]
    },
    {
     "name": "stderr",
     "output_type": "stream",
     "text": [
      "/Users/aij/miniconda3/envs/will/lib/python3.11/site-packages/sklearn/ensemble/_base.py:166: FutureWarning: `base_estimator` was renamed to `estimator` in version 1.2 and will be removed in 1.4.\n",
      "  warnings.warn(\n"
     ]
    },
    {
     "name": "stdout",
     "output_type": "stream",
     "text": [
      "100%|██████████| 4/4 [00:01<00:00,  1.73s/trial, best loss: 0.1651785714285714]\n",
      "100%|██████████| 5/5 [00:00<00:00,  1.94trial/s, best loss: 0.1651785714285714]\n",
      " 83%|████████▎ | 5/6 [00:00<?, ?trial/s, best loss=?]"
     ]
    },
    {
     "name": "stderr",
     "output_type": "stream",
     "text": [
      "/Users/aij/miniconda3/envs/will/lib/python3.11/site-packages/sklearn/ensemble/_base.py:166: FutureWarning: `base_estimator` was renamed to `estimator` in version 1.2 and will be removed in 1.4.\n",
      "  warnings.warn(\n"
     ]
    },
    {
     "name": "stdout",
     "output_type": "stream",
     "text": [
      "100%|██████████| 6/6 [00:00<00:00,  1.88trial/s, best loss: 0.1651785714285714]\n",
      " 86%|████████▌ | 6/7 [00:00<?, ?trial/s, best loss=?]"
     ]
    },
    {
     "name": "stderr",
     "output_type": "stream",
     "text": [
      "/Users/aij/miniconda3/envs/will/lib/python3.11/site-packages/sklearn/ensemble/_base.py:166: FutureWarning: `base_estimator` was renamed to `estimator` in version 1.2 and will be removed in 1.4.\n",
      "  warnings.warn(\n"
     ]
    },
    {
     "name": "stdout",
     "output_type": "stream",
     "text": [
      "100%|██████████| 7/7 [00:00<00:00,  1.86trial/s, best loss: 0.1651785714285714]\n",
      " 88%|████████▊ | 7/8 [00:00<?, ?trial/s, best loss=?]"
     ]
    },
    {
     "name": "stderr",
     "output_type": "stream",
     "text": [
      "/Users/aij/miniconda3/envs/will/lib/python3.11/site-packages/sklearn/ensemble/_base.py:166: FutureWarning: `base_estimator` was renamed to `estimator` in version 1.2 and will be removed in 1.4.\n",
      "  warnings.warn(\n"
     ]
    },
    {
     "name": "stdout",
     "output_type": "stream",
     "text": [
      "100%|██████████| 8/8 [00:00<00:00,  1.87trial/s, best loss: 0.1651785714285714]\n",
      " 89%|████████▉ | 8/9 [00:00<?, ?trial/s, best loss=?]"
     ]
    },
    {
     "name": "stderr",
     "output_type": "stream",
     "text": [
      "/Users/aij/miniconda3/envs/will/lib/python3.11/site-packages/sklearn/ensemble/_base.py:166: FutureWarning: `base_estimator` was renamed to `estimator` in version 1.2 and will be removed in 1.4.\n",
      "  warnings.warn(\n",
      "/Users/aij/miniconda3/envs/will/lib/python3.11/site-packages/sklearn/ensemble/_base.py:166: FutureWarning: `base_estimator` was renamed to `estimator` in version 1.2 and will be removed in 1.4.\n",
      "  warnings.warn(\n"
     ]
    },
    {
     "name": "stdout",
     "output_type": "stream",
     "text": [
      "100%|██████████| 9/9 [00:01<00:00,  1.11s/trial, best loss: 0.1651785714285714]\n",
      "100%|██████████| 10/10 [00:00<00:00,  1.97trial/s, best loss: 0.1651785714285714]\n",
      " 91%|█████████ | 10/11 [00:00<?, ?trial/s, best loss=?]"
     ]
    },
    {
     "name": "stderr",
     "output_type": "stream",
     "text": [
      "/Users/aij/miniconda3/envs/will/lib/python3.11/site-packages/sklearn/ensemble/_base.py:166: FutureWarning: `base_estimator` was renamed to `estimator` in version 1.2 and will be removed in 1.4.\n",
      "  warnings.warn(\n",
      "/Users/aij/miniconda3/envs/will/lib/python3.11/site-packages/sklearn/ensemble/_base.py:166: FutureWarning: `base_estimator` was renamed to `estimator` in version 1.2 and will be removed in 1.4.\n",
      "  warnings.warn(\n"
     ]
    },
    {
     "name": "stdout",
     "output_type": "stream",
     "text": [
      "100%|██████████| 11/11 [00:00<00:00,  1.14trial/s, best loss: 0.1651785714285714]\n",
      "100%|██████████| 12/12 [00:00<00:00,  1.57trial/s, best loss: 0.1651785714285714]\n",
      " 92%|█████████▏| 12/13 [00:00<?, ?trial/s, best loss=?]"
     ]
    },
    {
     "name": "stderr",
     "output_type": "stream",
     "text": [
      "/Users/aij/miniconda3/envs/will/lib/python3.11/site-packages/sklearn/ensemble/_base.py:166: FutureWarning: `base_estimator` was renamed to `estimator` in version 1.2 and will be removed in 1.4.\n",
      "  warnings.warn(\n"
     ]
    },
    {
     "name": "stdout",
     "output_type": "stream",
     "text": [
      "100%|██████████| 13/13 [00:00<00:00,  1.88trial/s, best loss: 0.1651785714285714]\n",
      " 93%|█████████▎| 13/14 [00:00<?, ?trial/s, best loss=?]"
     ]
    },
    {
     "name": "stderr",
     "output_type": "stream",
     "text": [
      "/Users/aij/miniconda3/envs/will/lib/python3.11/site-packages/sklearn/ensemble/_base.py:166: FutureWarning: `base_estimator` was renamed to `estimator` in version 1.2 and will be removed in 1.4.\n",
      "  warnings.warn(\n"
     ]
    },
    {
     "name": "stdout",
     "output_type": "stream",
     "text": [
      "100%|██████████| 14/14 [00:00<00:00,  1.92trial/s, best loss: 0.1651785714285714]\n",
      " 93%|█████████▎| 14/15 [00:00<?, ?trial/s, best loss=?]"
     ]
    },
    {
     "name": "stderr",
     "output_type": "stream",
     "text": [
      "/Users/aij/miniconda3/envs/will/lib/python3.11/site-packages/sklearn/ensemble/_base.py:166: FutureWarning: `base_estimator` was renamed to `estimator` in version 1.2 and will be removed in 1.4.\n",
      "  warnings.warn(\n",
      "/Users/aij/miniconda3/envs/will/lib/python3.11/site-packages/sklearn/ensemble/_base.py:166: FutureWarning: `base_estimator` was renamed to `estimator` in version 1.2 and will be removed in 1.4.\n",
      "  warnings.warn(\n"
     ]
    },
    {
     "name": "stdout",
     "output_type": "stream",
     "text": [
      "100%|██████████| 15/15 [00:04<00:00,  4.26s/trial, best loss: 0.1651785714285714]\n",
      " 94%|█████████▍| 15/16 [00:00<?, ?trial/s, best loss=?]"
     ]
    },
    {
     "name": "stderr",
     "output_type": "stream",
     "text": [
      "/Users/aij/miniconda3/envs/will/lib/python3.11/site-packages/sklearn/ensemble/_base.py:166: FutureWarning: `base_estimator` was renamed to `estimator` in version 1.2 and will be removed in 1.4.\n",
      "  warnings.warn(\n"
     ]
    },
    {
     "name": "stdout",
     "output_type": "stream",
     "text": [
      "100%|██████████| 16/16 [00:01<00:00,  1.09s/trial, best loss: 0.1651785714285714]\n",
      "100%|██████████| 17/17 [00:00<00:00,  1.71trial/s, best loss: 0.1651785714285714]\n",
      " 94%|█████████▍| 17/18 [00:00<?, ?trial/s, best loss=?]"
     ]
    },
    {
     "name": "stderr",
     "output_type": "stream",
     "text": [
      "/Users/aij/miniconda3/envs/will/lib/python3.11/site-packages/sklearn/ensemble/_base.py:166: FutureWarning: `base_estimator` was renamed to `estimator` in version 1.2 and will be removed in 1.4.\n",
      "  warnings.warn(\n"
     ]
    },
    {
     "name": "stdout",
     "output_type": "stream",
     "text": [
      "100%|██████████| 18/18 [00:00<00:00,  1.67trial/s, best loss: 0.1651785714285714]\n",
      " 95%|█████████▍| 18/19 [00:00<?, ?trial/s, best loss=?]"
     ]
    },
    {
     "name": "stderr",
     "output_type": "stream",
     "text": [
      "/Users/aij/miniconda3/envs/will/lib/python3.11/site-packages/sklearn/ensemble/_base.py:166: FutureWarning: `base_estimator` was renamed to `estimator` in version 1.2 and will be removed in 1.4.\n",
      "  warnings.warn(\n"
     ]
    },
    {
     "name": "stdout",
     "output_type": "stream",
     "text": [
      "100%|██████████| 19/19 [00:00<00:00,  1.91trial/s, best loss: 0.1651785714285714]\n",
      " 95%|█████████▌| 19/20 [00:00<?, ?trial/s, best loss=?]"
     ]
    },
    {
     "name": "stderr",
     "output_type": "stream",
     "text": [
      "/Users/aij/miniconda3/envs/will/lib/python3.11/site-packages/sklearn/ensemble/_base.py:166: FutureWarning: `base_estimator` was renamed to `estimator` in version 1.2 and will be removed in 1.4.\n",
      "  warnings.warn(\n"
     ]
    },
    {
     "name": "stdout",
     "output_type": "stream",
     "text": [
      "100%|██████████| 20/20 [00:00<00:00,  1.84trial/s, best loss: 0.1651785714285714]\n",
      " 95%|█████████▌| 20/21 [00:00<?, ?trial/s, best loss=?]"
     ]
    },
    {
     "name": "stderr",
     "output_type": "stream",
     "text": [
      "/Users/aij/miniconda3/envs/will/lib/python3.11/site-packages/sklearn/ensemble/_base.py:166: FutureWarning: `base_estimator` was renamed to `estimator` in version 1.2 and will be removed in 1.4.\n",
      "  warnings.warn(\n"
     ]
    },
    {
     "name": "stdout",
     "output_type": "stream",
     "text": [
      "100%|██████████| 21/21 [00:00<00:00,  1.89trial/s, best loss: 0.1651785714285714]\n",
      " 95%|█████████▌| 21/22 [00:00<?, ?trial/s, best loss=?]"
     ]
    },
    {
     "name": "stderr",
     "output_type": "stream",
     "text": [
      "/Users/aij/miniconda3/envs/will/lib/python3.11/site-packages/sklearn/ensemble/_base.py:166: FutureWarning: `base_estimator` was renamed to `estimator` in version 1.2 and will be removed in 1.4.\n",
      "  warnings.warn(\n",
      "/Users/aij/miniconda3/envs/will/lib/python3.11/site-packages/sklearn/ensemble/_base.py:166: FutureWarning: `base_estimator` was renamed to `estimator` in version 1.2 and will be removed in 1.4.\n",
      "  warnings.warn(\n"
     ]
    },
    {
     "name": "stdout",
     "output_type": "stream",
     "text": [
      "100%|██████████| 22/22 [00:02<00:00,  2.17s/trial, best loss: 0.1651785714285714]\n",
      "100%|██████████| 23/23 [00:00<00:00,  2.01trial/s, best loss: 0.1651785714285714]\n",
      " 96%|█████████▌| 23/24 [00:00<?, ?trial/s, best loss=?]"
     ]
    },
    {
     "name": "stderr",
     "output_type": "stream",
     "text": [
      "/Users/aij/miniconda3/envs/will/lib/python3.11/site-packages/sklearn/ensemble/_base.py:166: FutureWarning: `base_estimator` was renamed to `estimator` in version 1.2 and will be removed in 1.4.\n",
      "  warnings.warn(\n",
      "/Users/aij/miniconda3/envs/will/lib/python3.11/site-packages/sklearn/ensemble/_base.py:166: FutureWarning: `base_estimator` was renamed to `estimator` in version 1.2 and will be removed in 1.4.\n",
      "  warnings.warn(\n"
     ]
    },
    {
     "name": "stdout",
     "output_type": "stream",
     "text": [
      "100%|██████████| 24/24 [00:01<00:00,  1.71s/trial, best loss: 0.1651785714285714]\n",
      " 96%|█████████▌| 24/25 [00:00<?, ?trial/s, best loss=?]"
     ]
    },
    {
     "name": "stderr",
     "output_type": "stream",
     "text": [
      "/Users/aij/miniconda3/envs/will/lib/python3.11/site-packages/sklearn/ensemble/_base.py:166: FutureWarning: `base_estimator` was renamed to `estimator` in version 1.2 and will be removed in 1.4.\n",
      "  warnings.warn(\n"
     ]
    },
    {
     "name": "stdout",
     "output_type": "stream",
     "text": [
      "100%|██████████| 25/25 [00:01<00:00,  1.74s/trial, best loss: 0.1651785714285714]\n",
      "100%|██████████| 26/26 [00:00<00:00,  1.71trial/s, best loss: 0.1651785714285714]\n",
      " 96%|█████████▋| 26/27 [00:00<?, ?trial/s, best loss=?]"
     ]
    },
    {
     "name": "stderr",
     "output_type": "stream",
     "text": [
      "/Users/aij/miniconda3/envs/will/lib/python3.11/site-packages/sklearn/ensemble/_base.py:166: FutureWarning: `base_estimator` was renamed to `estimator` in version 1.2 and will be removed in 1.4.\n",
      "  warnings.warn(\n"
     ]
    },
    {
     "name": "stdout",
     "output_type": "stream",
     "text": [
      "100%|██████████| 27/27 [00:00<00:00,  1.99trial/s, best loss: 0.1651785714285714]\n",
      " 96%|█████████▋| 27/28 [00:00<?, ?trial/s, best loss=?]"
     ]
    },
    {
     "name": "stderr",
     "output_type": "stream",
     "text": [
      "/Users/aij/miniconda3/envs/will/lib/python3.11/site-packages/sklearn/ensemble/_base.py:166: FutureWarning: `base_estimator` was renamed to `estimator` in version 1.2 and will be removed in 1.4.\n",
      "  warnings.warn(\n",
      "/Users/aij/miniconda3/envs/will/lib/python3.11/site-packages/sklearn/ensemble/_base.py:166: FutureWarning: `base_estimator` was renamed to `estimator` in version 1.2 and will be removed in 1.4.\n",
      "  warnings.warn(\n"
     ]
    },
    {
     "name": "stdout",
     "output_type": "stream",
     "text": [
      "100%|██████████| 28/28 [00:01<00:00,  1.47s/trial, best loss: 0.1651785714285714]\n",
      "100%|██████████| 29/29 [00:00<00:00,  1.85trial/s, best loss: 0.1651785714285714]\n",
      " 97%|█████████▋| 29/30 [00:00<?, ?trial/s, best loss=?]"
     ]
    },
    {
     "name": "stderr",
     "output_type": "stream",
     "text": [
      "/Users/aij/miniconda3/envs/will/lib/python3.11/site-packages/sklearn/ensemble/_base.py:166: FutureWarning: `base_estimator` was renamed to `estimator` in version 1.2 and will be removed in 1.4.\n",
      "  warnings.warn(\n",
      "/Users/aij/miniconda3/envs/will/lib/python3.11/site-packages/sklearn/ensemble/_base.py:166: FutureWarning: `base_estimator` was renamed to `estimator` in version 1.2 and will be removed in 1.4.\n",
      "  warnings.warn(\n"
     ]
    },
    {
     "name": "stdout",
     "output_type": "stream",
     "text": [
      "100%|██████████| 30/30 [00:00<00:00,  1.45trial/s, best loss: 0.1651785714285714]\n",
      " 97%|█████████▋| 30/31 [00:00<?, ?trial/s, best loss=?]"
     ]
    },
    {
     "name": "stderr",
     "output_type": "stream",
     "text": [
      "/Users/aij/miniconda3/envs/will/lib/python3.11/site-packages/sklearn/ensemble/_base.py:166: FutureWarning: `base_estimator` was renamed to `estimator` in version 1.2 and will be removed in 1.4.\n",
      "  warnings.warn(\n"
     ]
    },
    {
     "name": "stdout",
     "output_type": "stream",
     "text": [
      "100%|██████████| 31/31 [00:00<00:00,  1.47trial/s, best loss: 0.1651785714285714]\n",
      " 97%|█████████▋| 31/32 [00:00<?, ?trial/s, best loss=?]"
     ]
    },
    {
     "name": "stderr",
     "output_type": "stream",
     "text": [
      "/Users/aij/miniconda3/envs/will/lib/python3.11/site-packages/sklearn/ensemble/_base.py:166: FutureWarning: `base_estimator` was renamed to `estimator` in version 1.2 and will be removed in 1.4.\n",
      "  warnings.warn(\n"
     ]
    },
    {
     "name": "stdout",
     "output_type": "stream",
     "text": [
      "100%|██████████| 32/32 [00:07<00:00,  7.84s/trial, best loss: 0.1651785714285714]\n",
      "100%|██████████| 33/33 [00:00<00:00,  1.94trial/s, best loss: 0.1651785714285714]\n",
      " 97%|█████████▋| 33/34 [00:00<?, ?trial/s, best loss=?]"
     ]
    },
    {
     "name": "stderr",
     "output_type": "stream",
     "text": [
      "/Users/aij/miniconda3/envs/will/lib/python3.11/site-packages/sklearn/ensemble/_base.py:166: FutureWarning: `base_estimator` was renamed to `estimator` in version 1.2 and will be removed in 1.4.\n",
      "  warnings.warn(\n"
     ]
    },
    {
     "name": "stdout",
     "output_type": "stream",
     "text": [
      "100%|██████████| 34/34 [00:00<00:00,  1.91trial/s, best loss: 0.1651785714285714]\n",
      " 97%|█████████▋| 34/35 [00:00<?, ?trial/s, best loss=?]"
     ]
    },
    {
     "name": "stderr",
     "output_type": "stream",
     "text": [
      "/Users/aij/miniconda3/envs/will/lib/python3.11/site-packages/sklearn/ensemble/_base.py:166: FutureWarning: `base_estimator` was renamed to `estimator` in version 1.2 and will be removed in 1.4.\n",
      "  warnings.warn(\n",
      "/Users/aij/miniconda3/envs/will/lib/python3.11/site-packages/sklearn/ensemble/_base.py:166: FutureWarning: `base_estimator` was renamed to `estimator` in version 1.2 and will be removed in 1.4.\n",
      "  warnings.warn(\n"
     ]
    },
    {
     "name": "stdout",
     "output_type": "stream",
     "text": [
      "100%|██████████| 35/35 [00:02<00:00,  2.19s/trial, best loss: 0.1651785714285714]\n",
      "100%|██████████| 36/36 [00:00<00:00,  1.93trial/s, best loss: 0.1651785714285714]\n",
      " 97%|█████████▋| 36/37 [00:00<?, ?trial/s, best loss=?]"
     ]
    },
    {
     "name": "stderr",
     "output_type": "stream",
     "text": [
      "/Users/aij/miniconda3/envs/will/lib/python3.11/site-packages/sklearn/ensemble/_base.py:166: FutureWarning: `base_estimator` was renamed to `estimator` in version 1.2 and will be removed in 1.4.\n",
      "  warnings.warn(\n"
     ]
    },
    {
     "name": "stdout",
     "output_type": "stream",
     "text": [
      "100%|██████████| 37/37 [00:00<00:00,  1.96trial/s, best loss: 0.1651785714285714]\n",
      " 97%|█████████▋| 37/38 [00:00<?, ?trial/s, best loss=?]"
     ]
    },
    {
     "name": "stderr",
     "output_type": "stream",
     "text": [
      "/Users/aij/miniconda3/envs/will/lib/python3.11/site-packages/sklearn/ensemble/_base.py:166: FutureWarning: `base_estimator` was renamed to `estimator` in version 1.2 and will be removed in 1.4.\n",
      "  warnings.warn(\n"
     ]
    },
    {
     "name": "stdout",
     "output_type": "stream",
     "text": [
      "100%|██████████| 38/38 [00:00<00:00,  1.94trial/s, best loss: 0.1651785714285714]\n",
      " 97%|█████████▋| 38/39 [00:00<?, ?trial/s, best loss=?]"
     ]
    },
    {
     "name": "stderr",
     "output_type": "stream",
     "text": [
      "/Users/aij/miniconda3/envs/will/lib/python3.11/site-packages/sklearn/ensemble/_base.py:166: FutureWarning: `base_estimator` was renamed to `estimator` in version 1.2 and will be removed in 1.4.\n",
      "  warnings.warn(\n",
      "/Users/aij/miniconda3/envs/will/lib/python3.11/site-packages/sklearn/ensemble/_base.py:166: FutureWarning: `base_estimator` was renamed to `estimator` in version 1.2 and will be removed in 1.4.\n",
      "  warnings.warn(\n"
     ]
    },
    {
     "name": "stdout",
     "output_type": "stream",
     "text": [
      "100%|██████████| 39/39 [00:00<00:00,  1.10trial/s, best loss: 0.1651785714285714]\n",
      "100%|██████████| 40/40 [00:00<00:00,  1.85trial/s, best loss: 0.1651785714285714]\n",
      " 98%|█████████▊| 40/41 [00:00<?, ?trial/s, best loss=?]"
     ]
    },
    {
     "name": "stderr",
     "output_type": "stream",
     "text": [
      "/Users/aij/miniconda3/envs/will/lib/python3.11/site-packages/sklearn/ensemble/_base.py:166: FutureWarning: `base_estimator` was renamed to `estimator` in version 1.2 and will be removed in 1.4.\n",
      "  warnings.warn(\n"
     ]
    },
    {
     "name": "stdout",
     "output_type": "stream",
     "text": [
      "100%|██████████| 41/41 [00:00<00:00,  1.87trial/s, best loss: 0.1651785714285714]\n",
      " 98%|█████████▊| 41/42 [00:00<?, ?trial/s, best loss=?]"
     ]
    },
    {
     "name": "stderr",
     "output_type": "stream",
     "text": [
      "/Users/aij/miniconda3/envs/will/lib/python3.11/site-packages/sklearn/ensemble/_base.py:166: FutureWarning: `base_estimator` was renamed to `estimator` in version 1.2 and will be removed in 1.4.\n",
      "  warnings.warn(\n"
     ]
    },
    {
     "name": "stdout",
     "output_type": "stream",
     "text": [
      "100%|██████████| 42/42 [00:00<00:00,  2.04trial/s, best loss: 0.1651785714285714]\n",
      " 98%|█████████▊| 42/43 [00:00<?, ?trial/s, best loss=?]"
     ]
    },
    {
     "name": "stderr",
     "output_type": "stream",
     "text": [
      "/Users/aij/miniconda3/envs/will/lib/python3.11/site-packages/sklearn/ensemble/_base.py:166: FutureWarning: `base_estimator` was renamed to `estimator` in version 1.2 and will be removed in 1.4.\n",
      "  warnings.warn(\n",
      "/Users/aij/miniconda3/envs/will/lib/python3.11/site-packages/sklearn/ensemble/_base.py:166: FutureWarning: `base_estimator` was renamed to `estimator` in version 1.2 and will be removed in 1.4.\n",
      "  warnings.warn(\n"
     ]
    },
    {
     "name": "stdout",
     "output_type": "stream",
     "text": [
      "100%|██████████| 43/43 [00:02<00:00,  2.45s/trial, best loss: 0.1651785714285714]\n",
      " 98%|█████████▊| 43/44 [00:00<?, ?trial/s, best loss=?]"
     ]
    },
    {
     "name": "stderr",
     "output_type": "stream",
     "text": [
      "/Users/aij/miniconda3/envs/will/lib/python3.11/site-packages/sklearn/ensemble/_base.py:166: FutureWarning: `base_estimator` was renamed to `estimator` in version 1.2 and will be removed in 1.4.\n",
      "  warnings.warn(\n"
     ]
    },
    {
     "name": "stdout",
     "output_type": "stream",
     "text": [
      "100%|██████████| 44/44 [00:01<00:00,  1.01s/trial, best loss: 0.1651785714285714]\n",
      "100%|██████████| 45/45 [00:00<00:00,  1.81trial/s, best loss: 0.1651785714285714]\n",
      " 98%|█████████▊| 45/46 [00:00<?, ?trial/s, best loss=?]"
     ]
    },
    {
     "name": "stderr",
     "output_type": "stream",
     "text": [
      "/Users/aij/miniconda3/envs/will/lib/python3.11/site-packages/sklearn/ensemble/_base.py:166: FutureWarning: `base_estimator` was renamed to `estimator` in version 1.2 and will be removed in 1.4.\n",
      "  warnings.warn(\n",
      "/Users/aij/miniconda3/envs/will/lib/python3.11/site-packages/sklearn/ensemble/_base.py:166: FutureWarning: `base_estimator` was renamed to `estimator` in version 1.2 and will be removed in 1.4.\n",
      "  warnings.warn(\n"
     ]
    },
    {
     "name": "stdout",
     "output_type": "stream",
     "text": [
      "100%|██████████| 46/46 [00:00<00:00,  1.34trial/s, best loss: 0.1651785714285714]\n",
      " 98%|█████████▊| 46/47 [00:00<?, ?trial/s, best loss=?]"
     ]
    },
    {
     "name": "stderr",
     "output_type": "stream",
     "text": [
      "/Users/aij/miniconda3/envs/will/lib/python3.11/site-packages/sklearn/ensemble/_base.py:166: FutureWarning: `base_estimator` was renamed to `estimator` in version 1.2 and will be removed in 1.4.\n",
      "  warnings.warn(\n"
     ]
    },
    {
     "name": "stdout",
     "output_type": "stream",
     "text": [
      "100%|██████████| 47/47 [00:07<00:00,  7.19s/trial, best loss: 0.1651785714285714]\n",
      "100%|██████████| 48/48 [00:00<00:00,  1.89trial/s, best loss: 0.1651785714285714]\n",
      " 98%|█████████▊| 48/49 [00:00<?, ?trial/s, best loss=?]"
     ]
    },
    {
     "name": "stderr",
     "output_type": "stream",
     "text": [
      "/Users/aij/miniconda3/envs/will/lib/python3.11/site-packages/sklearn/ensemble/_base.py:166: FutureWarning: `base_estimator` was renamed to `estimator` in version 1.2 and will be removed in 1.4.\n",
      "  warnings.warn(\n"
     ]
    },
    {
     "name": "stdout",
     "output_type": "stream",
     "text": [
      "100%|██████████| 49/49 [00:00<00:00,  1.87trial/s, best loss: 0.1651785714285714]\n",
      " 98%|█████████▊| 49/50 [00:00<?, ?trial/s, best loss=?]"
     ]
    },
    {
     "name": "stderr",
     "output_type": "stream",
     "text": [
      "/Users/aij/miniconda3/envs/will/lib/python3.11/site-packages/sklearn/ensemble/_base.py:166: FutureWarning: `base_estimator` was renamed to `estimator` in version 1.2 and will be removed in 1.4.\n",
      "  warnings.warn(\n"
     ]
    },
    {
     "name": "stdout",
     "output_type": "stream",
     "text": [
      "100%|██████████| 50/50 [00:00<00:00,  1.85trial/s, best loss: 0.1651785714285714]"
     ]
    },
    {
     "name": "stderr",
     "output_type": "stream",
     "text": [
      "/Users/aij/miniconda3/envs/will/lib/python3.11/site-packages/sklearn/ensemble/_base.py:166: FutureWarning: `base_estimator` was renamed to `estimator` in version 1.2 and will be removed in 1.4.\n",
      "  warnings.warn(\n",
      "/Users/aij/miniconda3/envs/will/lib/python3.11/site-packages/sklearn/ensemble/_base.py:166: FutureWarning: `base_estimator` was renamed to `estimator` in version 1.2 and will be removed in 1.4.\n",
      "  warnings.warn(\n"
     ]
    },
    {
     "name": "stdout",
     "output_type": "stream",
     "text": [
      "\n",
      "{'learner': AdaBoostClassifier(base_estimator=DecisionTreeClassifier(max_depth=3,\n",
      "                                                         max_features='log2',\n",
      "                                                         random_state=0),\n",
      "                   learning_rate=0.060523848485681556, n_estimators=130,\n",
      "                   random_state=4), 'preprocs': (), 'ex_preprocs': ()}\n"
     ]
    }
   ],
   "source": [
    "# AdaBoost\n",
    "\n",
    "from hpsklearn import ada_boost_classifier, decision_tree_classifier\n",
    "baseDT = decision_tree_classifier(\"adaDT\")\n",
    "ada = optimize_model(ada_boost_classifier(\"myada\", base_estimator=baseDT), X_train, y_train)"
   ]
  },
  {
   "cell_type": "code",
   "execution_count": null,
   "metadata": {},
   "outputs": [
    {
     "name": "stdout",
     "output_type": "stream",
     "text": [
      "Accuracy: 76.41 %\n",
      "F1: 60.43 %\n"
     ]
    },
    {
     "data": {
      "image/png": "[encoded data removed]",
      "text/plain": [
       "<Figure size 640x480 with 2 Axes>"
      ]
     },
     "metadata": {},
     "output_type": "display_data"
    }
   ],
   "source": [
    "# Run model with best results\n",
    "evaluate_model(ada, X_test, y_test)"
   ]
  },
  {
   "cell_type": "code",
   "execution_count": null,
   "metadata": {},
   "outputs": [
    {
     "name": "stdout",
     "output_type": "stream",
     "text": [
      "  0%|          | 0/1 [00:00<?, ?trial/s, best loss=?]"
     ]
    },
    {
     "name": "stdout",
     "output_type": "stream",
     "text": [
      "100%|██████████| 1/1 [00:00<00:00,  1.11trial/s, best loss: 0.1651785714285714]\n",
      "100%|██████████| 2/2 [00:00<00:00,  1.38trial/s, best loss: 0.1651785714285714]\n",
      "100%|██████████| 3/3 [00:00<00:00,  1.29trial/s, best loss: 0.1651785714285714]\n",
      "100%|██████████| 4/4 [00:00<00:00,  1.56trial/s, best loss: 0.1651785714285714]\n",
      "100%|██████████| 5/5 [00:00<00:00,  1.19trial/s, best loss: 0.1651785714285714]\n",
      "100%|██████████| 6/6 [00:01<00:00,  1.05s/trial, best loss: 0.1651785714285714]\n",
      "100%|██████████| 7/7 [00:01<00:00,  1.33s/trial, best loss: 0.1651785714285714]\n",
      " 88%|████████▊ | 7/8 [00:00<?, ?trial/s, best loss=?]"
     ]
    },
    {
     "name": "stderr",
     "output_type": "stream",
     "text": [
      "/Users/aij/miniconda3/envs/will/lib/python3.11/site-packages/sklearn/neural_network/_multilayer_perceptron.py:686: ConvergenceWarning: Stochastic Optimizer: Maximum iterations (163) reached and the optimization hasn't converged yet.\n",
      "  warnings.warn(\n"
     ]
    },
    {
     "name": "stdout",
     "output_type": "stream",
     "text": [
      "100%|██████████| 8/8 [00:00<00:00,  1.27trial/s, best loss: 0.1651785714285714]\n",
      "100%|██████████| 9/9 [00:01<00:00,  1.77s/trial, best loss: 0.1651785714285714]\n",
      "100%|██████████| 10/10 [00:00<00:00,  1.12trial/s, best loss: 0.15625]\n",
      "100%|██████████| 11/11 [00:00<00:00,  1.31trial/s, best loss: 0.15625]\n",
      "100%|██████████| 12/12 [00:01<00:00,  1.12s/trial, best loss: 0.15625]\n",
      "100%|██████████| 13/13 [00:00<00:00,  1.05trial/s, best loss: 0.15625]\n",
      "100%|██████████| 14/14 [00:00<00:00,  1.23trial/s, best loss: 0.15625]\n",
      "100%|██████████| 15/15 [00:00<00:00,  1.31trial/s, best loss: 0.15625]\n",
      "100%|██████████| 16/16 [00:00<00:00,  1.42trial/s, best loss: 0.15625]\n",
      "100%|██████████| 17/17 [00:00<00:00,  1.31trial/s, best loss: 0.15625]\n",
      "100%|██████████| 18/18 [00:00<00:00,  1.15trial/s, best loss: 0.15625]\n",
      "100%|██████████| 19/19 [00:00<00:00,  1.09trial/s, best loss: 0.15625]\n",
      "100%|██████████| 20/20 [00:01<00:00,  1.60s/trial, best loss: 0.15625]\n",
      " 95%|█████████▌| 20/21 [00:00<?, ?trial/s, best loss=?]"
     ]
    },
    {
     "name": "stderr",
     "output_type": "stream",
     "text": [
      "/Users/aij/miniconda3/envs/will/lib/python3.11/site-packages/sklearn/neural_network/_multilayer_perceptron.py:686: ConvergenceWarning: Stochastic Optimizer: Maximum iterations (206) reached and the optimization hasn't converged yet.\n",
      "  warnings.warn(\n"
     ]
    },
    {
     "name": "stdout",
     "output_type": "stream",
     "text": [
      "100%|██████████| 21/21 [00:00<00:00,  1.70trial/s, best loss: 0.15625]\n",
      "100%|██████████| 22/22 [00:00<00:00,  1.03trial/s, best loss: 0.15625]\n",
      "100%|██████████| 23/23 [00:00<00:00,  1.64trial/s, best loss: 0.15625]\n",
      "100%|██████████| 24/24 [00:00<00:00,  1.16trial/s, best loss: 0.15625]\n",
      "100%|██████████| 25/25 [00:00<00:00,  1.26trial/s, best loss: 0.15625]\n",
      "100%|██████████| 26/26 [00:00<00:00,  1.16trial/s, best loss: 0.15625]\n",
      "100%|██████████| 27/27 [00:00<00:00,  1.17trial/s, best loss: 0.15625]\n",
      "100%|██████████| 28/28 [00:00<00:00,  1.39trial/s, best loss: 0.15625]\n",
      "100%|██████████| 29/29 [00:00<00:00,  1.42trial/s, best loss: 0.15625]\n",
      "100%|██████████| 30/30 [00:00<00:00,  1.68trial/s, best loss: 0.15625]\n",
      "100%|██████████| 31/31 [00:00<00:00,  1.48trial/s, best loss: 0.15625]\n",
      "100%|██████████| 32/32 [00:00<00:00,  1.33trial/s, best loss: 0.15625]\n",
      "100%|██████████| 33/33 [00:00<00:00,  1.09trial/s, best loss: 0.15625]\n",
      "100%|██████████| 34/34 [00:00<00:00,  1.52trial/s, best loss: 0.15625]\n",
      "100%|██████████| 35/35 [00:01<00:00,  1.40s/trial, best loss: 0.15625]\n",
      " 97%|█████████▋| 35/36 [00:00<?, ?trial/s, best loss=?]"
     ]
    },
    {
     "name": "stderr",
     "output_type": "stream",
     "text": [
      "/Users/aij/miniconda3/envs/will/lib/python3.11/site-packages/sklearn/neural_network/_multilayer_perceptron.py:686: ConvergenceWarning: Stochastic Optimizer: Maximum iterations (184) reached and the optimization hasn't converged yet.\n",
      "  warnings.warn(\n"
     ]
    },
    {
     "name": "stdout",
     "output_type": "stream",
     "text": [
      "100%|██████████| 36/36 [00:00<00:00,  1.37trial/s, best loss: 0.15625]\n",
      "100%|██████████| 37/37 [00:00<00:00,  1.57trial/s, best loss: 0.15625]\n",
      "100%|██████████| 38/38 [00:01<00:00,  1.40s/trial, best loss: 0.15625]\n",
      "100%|██████████| 39/39 [00:00<00:00,  1.37trial/s, best loss: 0.15625]\n",
      "100%|██████████| 40/40 [00:00<00:00,  1.60trial/s, best loss: 0.15625]\n",
      "100%|██████████| 41/41 [00:00<00:00,  1.34trial/s, best loss: 0.15625]\n",
      "100%|██████████| 42/42 [00:00<00:00,  1.11trial/s, best loss: 0.15625]\n",
      "100%|██████████| 43/43 [00:00<00:00,  1.38trial/s, best loss: 0.15625]\n",
      "100%|██████████| 44/44 [00:00<00:00,  1.21trial/s, best loss: 0.15625]\n",
      "100%|██████████| 45/45 [00:00<00:00,  1.22trial/s, best loss: 0.15625]\n",
      "100%|██████████| 46/46 [00:00<00:00,  1.19trial/s, best loss: 0.15625]\n",
      "100%|██████████| 47/47 [00:01<00:00,  1.66s/trial, best loss: 0.15625]\n",
      " 98%|█████████▊| 47/48 [00:00<?, ?trial/s, best loss=?]"
     ]
    },
    {
     "name": "stderr",
     "output_type": "stream",
     "text": [
      "/Users/aij/miniconda3/envs/will/lib/python3.11/site-packages/sklearn/neural_network/_multilayer_perceptron.py:686: ConvergenceWarning: Stochastic Optimizer: Maximum iterations (190) reached and the optimization hasn't converged yet.\n",
      "  warnings.warn(\n"
     ]
    },
    {
     "name": "stdout",
     "output_type": "stream",
     "text": [
      "100%|██████████| 48/48 [00:01<00:00,  1.11s/trial, best loss: 0.15625]\n",
      "100%|██████████| 49/49 [00:00<00:00,  1.10trial/s, best loss: 0.1517857142857143]\n",
      "100%|██████████| 50/50 [00:00<00:00,  1.57trial/s, best loss: 0.1517857142857143]\n",
      "{'learner': MLPClassifier(alpha=0.0035990682211844752, beta_1=0.8022389084321618,\n",
      "              beta_2=0.9769084943118391, epsilon=6.556096796409453e-06,\n",
      "              learning_rate='adaptive', learning_rate_init=0.014625158257149431,\n",
      "              max_fun=20671, max_iter=221, momentum=0.8691585846918417,\n",
      "              n_iter_no_change=30, power_t=0.6891140915266261, random_state=0,\n",
      "              tol=0.0006487858743499091,\n",
      "              validation_fraction=0.1719046392131692), 'preprocs': (), 'ex_preprocs': ()}\n"
     ]
    }
   ],
   "source": [
    "from hpsklearn import mlp_classifier\n",
    "\n",
    "mlp = optimize_model(mlp_classifier(\"mlp\"), X_train, y_train)"
   ]
  },
  {
   "cell_type": "code",
   "execution_count": null,
   "metadata": {},
   "outputs": [
    {
     "name": "stdout",
     "output_type": "stream",
     "text": [
      "Accuracy: 83.11 %\n",
      "F1: 76.1 %\n"
     ]
    },
    {
     "data": {
      "image/png": "[encoded data removed]",
      "text/plain": [
       "<Figure size 640x480 with 2 Axes>"
      ]
     },
     "metadata": {},
     "output_type": "display_data"
    }
   ],
   "source": [
    "evaluate_model(mlp, X_test, y_test)"
   ]
  },
  {
   "attachments": {},
   "cell_type": "markdown",
   "metadata": {},
   "source": [
    "# Clustering"
   ]
  },
  {
   "cell_type": "code",
   "execution_count": null,
   "metadata": {},
   "outputs": [],
   "source": [
    "#from sklearn.metrics import silhouette_samples, silhouette_score\n",
    "#from sklearn.mixture import GaussianMixture\n",
    "\n",
    "#n=25\n",
    "#n_clusters = range(2, n+1)\n",
    "#s_avgs = []\n",
    "\n",
    "#for k in tqdm(n_clusters):\n",
    "#    GM = GaussianMixture(n_components=k, n_init=10, random_state=5508)\n",
    "#    cluster_labels = GM.fit_predict(X_train)\n",
    "\n",
    "#    silhouette_avg = silhouette_score(X_train, cluster_labels, metric='euclidean')\n",
    "#    s_avgs.append(silhouette_avg)\n",
    "\n",
    "#fig, ax = plt.subplots()\n",
    "#ax.set_xlim([1.5, n+0.5])\n",
    "\n",
    "#ax = plt.plot(n_clusters, s_avgs, '-ok')\n",
    "#plt.title(\"silhouette scores\")\n",
    "#plt.xlabel(\"K value\")\n",
    "#plt.ylabel(\"average silhouette score\")\n",
    "#plt.grid()\n",
    "#plt.show()"
   ]
  },
  {
   "cell_type": "code",
   "execution_count": null,
   "metadata": {},
   "outputs": [],
   "source": [
    "#from sklearn.mixture import GaussianMixture\n",
    "\n",
    "#gm = GaussianMixture(n_components=24)\n",
    "#gm_train_labels = gm.fit_predict(X_train)\n",
    "#gm_test_labels = gm.predict(X_test)"
   ]
  },
  {
   "attachments": {},
   "cell_type": "markdown",
   "metadata": {},
   "source": [
    "## Ensemble"
   ]
  },
  {
   "cell_type": "code",
   "execution_count": null,
   "metadata": {},
   "outputs": [],
   "source": [
    "sk_svm = svm.best_model()['learner']\n",
    "sk_knn = knn.best_model()['learner']\n",
    "sk_LR = myLR.best_model()['learner']\n",
    "sk_ada = ada.best_model()['learner']\n",
    "sk_mlp = mlp.best_model()['learner']\n",
    "\n",
    "sk_classifiers = [sk_svm, sk_LR, sk_ada, sk_mlp, sk_knn]"
   ]
  },
  {
   "cell_type": "code",
   "execution_count": null,
   "metadata": {},
   "outputs": [
    {
     "name": "stderr",
     "output_type": "stream",
     "text": [
      "/Users/aij/miniconda3/envs/will/lib/python3.11/site-packages/sklearn/ensemble/_base.py:166: FutureWarning: `base_estimator` was renamed to `estimator` in version 1.2 and will be removed in 1.4.\n",
      "  warnings.warn(\n"
     ]
    },
    {
     "name": "stdout",
     "output_type": "stream",
     "text": [
      "Accuracy: 78.82 %\n",
      "F1: 65.08 %\n"
     ]
    },
    {
     "data": {
      "image/png": "[encoded data removed]",
      "text/plain": [
       "<Figure size 640x480 with 2 Axes>"
      ]
     },
     "metadata": {},
     "output_type": "display_data"
    }
   ],
   "source": [
    "# Hard voting\n",
    "from sklearn.ensemble import VotingClassifier\n",
    "\n",
    "\n",
    "names = [\"svm\", \"LR\", \"ada\", \"mlp\", \"knn\"]\n",
    "\n",
    "hardvoter = VotingClassifier(estimators=list(zip(names, sk_classifiers)), voting=\"hard\")\n",
    "hardvoter.fit(X_train, y_train)\n",
    "evaluate_model(hardvoter, X_test, y_test)"
   ]
  },
  {
   "cell_type": "code",
   "execution_count": null,
   "metadata": {},
   "outputs": [
    {
     "name": "stderr",
     "output_type": "stream",
     "text": [
      "/Users/aij/miniconda3/envs/will/lib/python3.11/site-packages/sklearn/ensemble/_base.py:166: FutureWarning: `base_estimator` was renamed to `estimator` in version 1.2 and will be removed in 1.4.\n",
      "  warnings.warn(\n"
     ]
    },
    {
     "name": "stdout",
     "output_type": "stream",
     "text": [
      "Accuracy: 80.16 %\n",
      "F1: 69.72 %\n"
     ]
    },
    {
     "data": {
      "image/png": "[encoded data removed]",
      "text/plain": [
       "<Figure size 640x480 with 2 Axes>"
      ]
     },
     "metadata": {},
     "output_type": "display_data"
    }
   ],
   "source": [
    "softvoter = VotingClassifier(estimators=list(zip(names, sk_classifiers)), voting=\"soft\")\n",
    "softvoter.fit(X_train, y_train)\n",
    "evaluate_model(softvoter, X_test, y_test)"
   ]
  },
  {
   "cell_type": "code",
   "execution_count": null,
   "metadata": {},
   "outputs": [],
   "source": [
    "#from deslib.des import KNORAE\n",
    "\n",
    "#e_ensemble = KNORAE(pool_classifiers=sk_classifiers)\n",
    "\n",
    "#e_ensemble.fit(X_train, y_train)\n",
    "#evaluate_model(e_ensemble, X_test, y_test)"
   ]
  },
  {
   "cell_type": "code",
   "execution_count": null,
   "metadata": {},
   "outputs": [],
   "source": [
    "#e_ensemble_soft = KNORAE(pool_classifiers=sk_classifiers, voting=\"soft\")\n",
    "#e_ensemble_soft.fit(X_train, y_train)\n",
    "#evaluate_model(e_ensemble_soft, X_test, y_test)"
   ]
  },
  {
   "cell_type": "code",
   "execution_count": null,
   "metadata": {},
   "outputs": [],
   "source": [
    "#from deslib.des import KNORAU\n",
    "\n",
    "#u_ensemble_hard = KNORAU(pool_classifiers=sk_classifiers, knn_metric = \"mahalanobis\")\n",
    "\n",
    "#u_ensemble_hard.fit(X_train, y_train)\n",
    "#evaluate_model(u_ensemble_hard, X_test, y_test)"
   ]
  },
  {
   "cell_type": "code",
   "execution_count": null,
   "metadata": {},
   "outputs": [],
   "source": [
    "#u_ensemble_soft = KNORAU(pool_classifiers=sk_classifiers, voting=\"soft\")\n",
    "\n",
    "#u_ensemble_soft.fit(X_train, y_train)\n",
    "#evaluate_model(u_ensemble_soft, X_test, y_test)"
   ]
  },
  {
   "attachments": {},
   "cell_type": "markdown",
   "metadata": {},
   "source": [
    "# Custom model"
   ]
  },
  {
   "cell_type": "code",
   "execution_count": null,
   "metadata": {},
   "outputs": [
    {
     "data": {
      "text/plain": [
       "'\\ndef set_clusters(train_category_values, test_category_values):\\n    trained_points = {}\\n    for i in range(len(train_category_values)):\\n        if train_category_values[i] in trained_points:\\n            trained_points[train_category_values[i]].append(i)\\n        else:\\n            trained_points[train_category_values[i]] = [i]\\n\\n    return trained_points, train_category_values, test_category_values\\n\\n\\ndef predict_points(points, ensemble, train_cluster, test_cluster):\\n    trained_points, train_events, test_events = set_clusters(train_cluster, test_cluster)\\n    #print(trained_points)\\n    final_predictions = []\\n    marks = []\\n    for j in tqdm(range(len(points))):\\n        event = test_events[j]\\n        event_points = trained_points[event]\\n        model_predictions = []\\n        for model in ensemble:\\n            score = model.score(np.array([X_train[i] for i in event_points]), np.array([y_train.iloc[i] for i in event_points]))\\n            pred = model.predict(points[j].reshape(1,-1))\\n            model_predictions.append((score, pred[0]))\\n        mark = 0\\n        if j == len(points) -1:\\n            print(model_predictions)\\n        for score, pred in model_predictions:    \\n            if pred == True:\\n                mark += score\\n            else:\\n                mark -= score\\n        #print(mark)\\n        if (mark > 0):\\n            final_predictions.append(True)\\n        else:\\n            final_predictions.append(False)\\n        marks.append(model_predictions)\\n    return final_predictions, marks\\n'"
      ]
     },
     "execution_count": 338,
     "metadata": {},
     "output_type": "execute_result"
    }
   ],
   "source": [
    "\"\"\"\n",
    "def set_clusters(train_category_values, test_category_values):\n",
    "    trained_points = {}\n",
    "    for i in range(len(train_category_values)):\n",
    "        if train_category_values[i] in trained_points:\n",
    "            trained_points[train_category_values[i]].append(i)\n",
    "        else:\n",
    "            trained_points[train_category_values[i]] = [i]\n",
    "\n",
    "    return trained_points, train_category_values, test_category_values\n",
    "\n",
    "\n",
    "def predict_points(points, ensemble, train_cluster, test_cluster):\n",
    "    trained_points, train_events, test_events = set_clusters(train_cluster, test_cluster)\n",
    "    #print(trained_points)\n",
    "    final_predictions = []\n",
    "    marks = []\n",
    "    for j in tqdm(range(len(points))):\n",
    "        event = test_events[j]\n",
    "        event_points = trained_points[event]\n",
    "        model_predictions = []\n",
    "        for model in ensemble:\n",
    "            score = model.score(np.array([X_train[i] for i in event_points]), np.array([y_train.iloc[i] for i in event_points]))\n",
    "            pred = model.predict(points[j].reshape(1,-1))\n",
    "            model_predictions.append((score, pred[0]))\n",
    "        mark = 0\n",
    "        if j == len(points) -1:\n",
    "            print(model_predictions)\n",
    "        for score, pred in model_predictions:    \n",
    "            if pred == True:\n",
    "                mark += score\n",
    "            else:\n",
    "                mark -= score\n",
    "        #print(mark)\n",
    "        if (mark > 0):\n",
    "            final_predictions.append(True)\n",
    "        else:\n",
    "            final_predictions.append(False)\n",
    "        marks.append(model_predictions)\n",
    "    return final_predictions, marks\n",
    "\"\"\""
   ]
  },
  {
   "cell_type": "code",
   "execution_count": null,
   "metadata": {},
   "outputs": [
    {
     "data": {
      "text/plain": [
       "'\\ndef predict_points_gcats(points, cat_dir, json_file):\\n    f = open(json_file)\\n    gcats = json.load(f)\\n    for j in tqdm(range(len(points))):\\n        data_id = X_te[\"Unnamed: 0\"].iloc[j]\\n        cats = gcats[str(data_id)]\\n        event_points = trained_points[event]\\n        model_predictions = []\\n        for model in ensemble:\\n            score = model.score(np.array([X_train[i] for i in event_points]), np.array([y_train.iloc[i] for i in event_points]))\\n            pred = model.predict(points[j].reshape(1,-1))\\n            model_predictions.append((score, pred[0]))\\n        mark = 0\\n        if j == len(points) -1:\\n            print(model_predictions)\\n        for score, pred in model_predictions:    \\n            if pred == True:\\n                mark += score\\n            else:\\n                mark -= score\\n        #print(mark)\\n        if (mark > 0):\\n            final_predictions.append(True)\\n        else:\\n            final_predictions.append(False)\\n        marks.append(model_predictions)\\n    \\n'"
      ]
     },
     "execution_count": 339,
     "metadata": {},
     "output_type": "execute_result"
    }
   ],
   "source": [
    "\"\"\"\n",
    "def predict_points_gcats(points, cat_dir, json_file):\n",
    "    f = open(json_file)\n",
    "    gcats = json.load(f)\n",
    "    for j in tqdm(range(len(points))):\n",
    "        data_id = X_te[\"Unnamed: 0\"].iloc[j]\n",
    "        cats = gcats[str(data_id)]\n",
    "        event_points = trained_points[event]\n",
    "        model_predictions = []\n",
    "        for model in ensemble:\n",
    "            score = model.score(np.array([X_train[i] for i in event_points]), np.array([y_train.iloc[i] for i in event_points]))\n",
    "            pred = model.predict(points[j].reshape(1,-1))\n",
    "            model_predictions.append((score, pred[0]))\n",
    "        mark = 0\n",
    "        if j == len(points) -1:\n",
    "            print(model_predictions)\n",
    "        for score, pred in model_predictions:    \n",
    "            if pred == True:\n",
    "                mark += score\n",
    "            else:\n",
    "                mark -= score\n",
    "        #print(mark)\n",
    "        if (mark > 0):\n",
    "            final_predictions.append(True)\n",
    "        else:\n",
    "            final_predictions.append(False)\n",
    "        marks.append(model_predictions)\n",
    "    \n",
    "\"\"\""
   ]
  },
  {
   "cell_type": "code",
   "execution_count": null,
   "metadata": {},
   "outputs": [],
   "source": [
    "# predict_points_gcats(X_test[0:2], \"pheme_cats\", \"pheme_categories.json\")"
   ]
  },
  {
   "cell_type": "code",
   "execution_count": null,
   "metadata": {},
   "outputs": [],
   "source": [
    "#X_te[\"Unnamed: 0\"].iloc[0]"
   ]
  },
  {
   "cell_type": "code",
   "execution_count": null,
   "metadata": {},
   "outputs": [
    {
     "data": {
      "text/plain": [
       "'\\nf = open(\"./pheme_categories.json\")\\ngcats = json.load(f)\\n\\nfor i in gcats[\"0\"]:\\n    print(i)\\n    print(gcats[\"0\"][i])\\n'"
      ]
     },
     "execution_count": 342,
     "metadata": {},
     "output_type": "execute_result"
    }
   ],
   "source": [
    "\"\"\"\n",
    "f = open(\"./pheme_categories.json\")\n",
    "gcats = json.load(f)\n",
    "\n",
    "for i in gcats[\"0\"]:\n",
    "    print(i)\n",
    "    print(gcats[\"0\"][i])\n",
    "\"\"\""
   ]
  },
  {
   "cell_type": "code",
   "execution_count": null,
   "metadata": {},
   "outputs": [],
   "source": [
    "\n",
    "    "
   ]
  },
  {
   "cell_type": "code",
   "execution_count": null,
   "metadata": {},
   "outputs": [
    {
     "data": {
      "text/plain": [
       "'\\ndef check_score(test, pred):\\n    acc = accuracy_score(test, pred)\\n    print(\"Accuracy:\", float(\"{0:.2f}\".format(acc*100)), \"%\")\\n    f1 = f1_score(test, pred, average=\"macro\")\\n    print(\"F1:\", float(\"{0:.2f}\".format(f1*100)), \"%\")\\n    cm = confusion_matrix(test, pred)\\n    disp = ConfusionMatrixDisplay(confusion_matrix=cm, display_labels=[\"true\", \"false\"])\\n    disp.plot()\\n    plt.show() \\n'"
      ]
     },
     "execution_count": 343,
     "metadata": {},
     "output_type": "execute_result"
    }
   ],
   "source": [
    "\"\"\"\n",
    "def check_score(test, pred):\n",
    "    acc = accuracy_score(test, pred)\n",
    "    print(\"Accuracy:\", float(\"{0:.2f}\".format(acc*100)), \"%\")\n",
    "    f1 = f1_score(test, pred, average=\"macro\")\n",
    "    print(\"F1:\", float(\"{0:.2f}\".format(f1*100)), \"%\")\n",
    "    cm = confusion_matrix(test, pred)\n",
    "    disp = ConfusionMatrixDisplay(confusion_matrix=cm, display_labels=[\"true\", \"false\"])\n",
    "    disp.plot()\n",
    "    plt.show() \n",
    "\"\"\""
   ]
  },
  {
   "cell_type": "code",
   "execution_count": null,
   "metadata": {},
   "outputs": [
    {
     "data": {
      "text/plain": [
       "'\\no, t, s = set_clusters(gm_train_labels, gm_test_labels)\\nprint(o.keys())\\nfor key in o:\\n    print(key, len(o[key]))\\n'"
      ]
     },
     "execution_count": 344,
     "metadata": {},
     "output_type": "execute_result"
    }
   ],
   "source": [
    "\"\"\"\n",
    "o, t, s = set_clusters(gm_train_labels, gm_test_labels)\n",
    "print(o.keys())\n",
    "for key in o:\n",
    "    print(key, len(o[key]))\n",
    "\"\"\""
   ]
  },
  {
   "cell_type": "code",
   "execution_count": null,
   "metadata": {},
   "outputs": [
    {
     "data": {
      "text/plain": [
       "'\\ndef check_score_manual(a, b):\\n    num = 0\\n    den = 0\\n    data = zip(a,b)\\n    data = tuple(data)\\n    mark = []\\n    for i in range(len(data)):\\n        if data[i][0] == data[i][1]:\\n            num += 1\\n            den += 1\\n        else:\\n            den += 1\\n            mark.append((marks[i], i))\\n    return num/den, mark\\n'"
      ]
     },
     "execution_count": 345,
     "metadata": {},
     "output_type": "execute_result"
    }
   ],
   "source": [
    "\"\"\"\n",
    "def check_score_manual(a, b):\n",
    "    num = 0\n",
    "    den = 0\n",
    "    data = zip(a,b)\n",
    "    data = tuple(data)\n",
    "    mark = []\n",
    "    for i in range(len(data)):\n",
    "        if data[i][0] == data[i][1]:\n",
    "            num += 1\n",
    "            den += 1\n",
    "        else:\n",
    "            den += 1\n",
    "            mark.append((marks[i], i))\n",
    "    return num/den, mark\n",
    "\"\"\""
   ]
  },
  {
   "cell_type": "code",
   "execution_count": null,
   "metadata": {},
   "outputs": [
    {
     "data": {
      "text/plain": [
       "'\\nprint(\"events\")\\npred1, marks1 = predict_points(X_test, sk_classifiers, X_tr[\\'event\\'].values, X_te[\\'event\\'].values)\\na, amarks = check_score_manual(y_test, pred1)\\nprint(\"verified\")\\npred2, marks2 = predict_points(X_test, sk_classifiers, X_tr[\\'verified\\'].values, X_te[\\'verified\\'].values)\\nb, bmarks = check_score_manual(y_test, pred2)\\nprint(\"gm clusters\")\\npred3, marks3 = predict_points(X_test, sk_classifiers, gm_train_labels, gm_test_labels)\\nc, cmarks = check_score_manual(y_test, pred3)\\n'"
      ]
     },
     "execution_count": 346,
     "metadata": {},
     "output_type": "execute_result"
    }
   ],
   "source": [
    "\"\"\"\n",
    "print(\"events\")\n",
    "pred1, marks1 = predict_points(X_test, sk_classifiers, X_tr['event'].values, X_te['event'].values)\n",
    "a, amarks = check_score_manual(y_test, pred1)\n",
    "print(\"verified\")\n",
    "pred2, marks2 = predict_points(X_test, sk_classifiers, X_tr['verified'].values, X_te['verified'].values)\n",
    "b, bmarks = check_score_manual(y_test, pred2)\n",
    "print(\"gm clusters\")\n",
    "pred3, marks3 = predict_points(X_test, sk_classifiers, gm_train_labels, gm_test_labels)\n",
    "c, cmarks = check_score_manual(y_test, pred3)\n",
    "\"\"\""
   ]
  },
  {
   "cell_type": "code",
   "execution_count": null,
   "metadata": {},
   "outputs": [
    {
     "data": {
      "text/plain": [
       "'\\nprint(\"followers\")\\npheme[\\'rank\\'] = pheme[\\'followers\\'].rank()\\npheme[\\'group\\'] = np.array([int(x/(len(pheme)/5)) for x in pheme[\\'rank\\']])\\npred4, marks4 = predict_points(X_test, sk_classifiers, X_tr[\\'group\\'].values, X_te[\\'group\\'].values)\\nd, dmarks = check_score_manual(y_test, pred4)\\n'"
      ]
     },
     "execution_count": 347,
     "metadata": {},
     "output_type": "execute_result"
    }
   ],
   "source": [
    "\"\"\"\n",
    "print(\"followers\")\n",
    "pheme['rank'] = pheme['followers'].rank()\n",
    "pheme['group'] = np.array([int(x/(len(pheme)/5)) for x in pheme['rank']])\n",
    "pred4, marks4 = predict_points(X_test, sk_classifiers, X_tr['group'].values, X_te['group'].values)\n",
    "d, dmarks = check_score_manual(y_test, pred4)\n",
    "\"\"\""
   ]
  },
  {
   "cell_type": "code",
   "execution_count": null,
   "metadata": {},
   "outputs": [
    {
     "data": {
      "text/plain": [
       "'\\na1,a2 = map(list,zip(*amarks))\\nb1,b2 = map(list,zip(*bmarks))\\nc1,c2 = map(list,zip(*cmarks))\\n'"
      ]
     },
     "execution_count": 348,
     "metadata": {},
     "output_type": "execute_result"
    }
   ],
   "source": [
    "\"\"\"\n",
    "a1,a2 = map(list,zip(*amarks))\n",
    "b1,b2 = map(list,zip(*bmarks))\n",
    "c1,c2 = map(list,zip(*cmarks))\n",
    "\"\"\""
   ]
  },
  {
   "cell_type": "code",
   "execution_count": null,
   "metadata": {},
   "outputs": [
    {
     "data": {
      "text/plain": [
       "'\\nd, dmarks = check_score_manual(y_test, pred4)\\nprint(d)\\nd1,d2 = map(list,zip(*dmarks))\\n'"
      ]
     },
     "execution_count": 349,
     "metadata": {},
     "output_type": "execute_result"
    }
   ],
   "source": [
    "\"\"\"\n",
    "d, dmarks = check_score_manual(y_test, pred4)\n",
    "print(d)\n",
    "d1,d2 = map(list,zip(*dmarks))\n",
    "\"\"\""
   ]
  },
  {
   "cell_type": "code",
   "execution_count": null,
   "metadata": {},
   "outputs": [],
   "source": [
    "# np.subtract(d2,a2).shape"
   ]
  },
  {
   "attachments": {},
   "cell_type": "markdown",
   "metadata": {},
   "source": [
    "false alarm on the high score - accidentally trained some on full set\n",
    "event score ~83\n",
    "verified score ~83\n",
    "event, verified, gm, all get the same ones wrong"
   ]
  }
 ],
 "metadata": {
  "kernelspec": {
   "display_name": "Python 3",
   "language": "python",
   "name": "python3"
  },
  "language_info": {
   "codemirror_mode": {
    "name": "ipython",
    "version": 3
   },
   "file_extension": ".py",
   "mimetype": "text/x-python",
   "name": "python",
   "nbconvert_exporter": "python",
   "pygments_lexer": "ipython3",
   "version": "3.11.5"
  },
  "orig_nbformat": 4
 },
 "nbformat": 4,
 "nbformat_minor": 2
}
